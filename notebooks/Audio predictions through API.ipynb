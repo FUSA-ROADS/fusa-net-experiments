{
 "cells": [
  {
   "cell_type": "code",
   "execution_count": 1,
   "id": "95c57062",
   "metadata": {},
   "outputs": [],
   "source": [
    "from pathlib import Path\n",
    "import json\n",
    "import pandas as pd\n",
    "import librosa"
   ]
  },
  {
   "cell_type": "code",
   "execution_count": 2,
   "id": "a2e3bbab",
   "metadata": {},
   "outputs": [
    {
     "name": "stdout",
     "output_type": "stream",
     "text": [
      "https://api.labacam.org/predictions?model=PANN-tag-5s/\n"
     ]
    }
   ],
   "source": [
    "FUSA_SERVER=\"https://api.labacam.org\"\n",
    "API_KEY=\"zIkYk2VwBiC762O4yFSd\"\n",
    "\n",
    "ENDPOINT=\"predictions\"\n",
    "MODEL=\"PANN-tag-5s\"\n",
    "\n",
    "URI = f\"{FUSA_SERVER}/{ENDPOINT}?model={MODEL}/\"\n",
    "\n",
    "print(URI)"
   ]
  },
  {
   "cell_type": "code",
   "execution_count": 3,
   "id": "c6a8ed91",
   "metadata": {},
   "outputs": [],
   "source": [
    "threshold = 0.01"
   ]
  },
  {
   "cell_type": "code",
   "execution_count": 4,
   "id": "cad3e292",
   "metadata": {},
   "outputs": [],
   "source": [
    "def filter_predictions(categories_dict, threshold):\n",
    "    filtered_dict = {}\n",
    "    for key, values in categories_dict.items():\n",
    "        values_list = []\n",
    "        for value in values:\n",
    "            if value['probability'] > threshold:\n",
    "                values_list.append(value)\n",
    "            filtered_dict.update({key:values_list})\n",
    "    return filtered_dict\n",
    "\n",
    "def calculate_metrics(filtered_predictions, audio_duration):\n",
    "    df = pd.DataFrame([], columns  = ['event', 'duration_ratio', 'avg_acc'])\n",
    "    class_tags, duration_ratio, avg_acc = [], [], []\n",
    "    for class_tags in filtered_predictions:\n",
    "        avg_acc = 0\n",
    "        tags = filtered_predictions[class_tags]\n",
    "        c = len(tags)\n",
    "        if c > 0:\n",
    "            for tag in tags:\n",
    "                avg_acc += tag['probability']\n",
    "            duration_ratio = (c * 5) / audio_duration\n",
    "            avg_acc = avg_acc / c\n",
    "            d = {'event' : class_tags, 'duration_ratio': round(duration_ratio, 3), 'avg_acc': round(avg_acc, 3)}\n",
    "            output = pd.DataFrame([d])\n",
    "            df = pd.concat([df, output], ignore_index=True)\n",
    "    df = df.sort_values(by='duration_ratio', ascending=False).head(5)\n",
    "    return df\n",
    "\n",
    "def get_audio_duration(audio_path):\n",
    "    return librosa.get_duration(filename=audio_path)"
   ]
  },
  {
   "cell_type": "code",
   "execution_count": 8,
   "id": "8e1fd99c",
   "metadata": {},
   "outputs": [
    {
     "name": "stdout",
     "output_type": "stream",
     "text": [
      "list index out of range /home/rafael-hayde/Desktop/fusa/fusa-net-experiments/datasets/VitGlobal-ROADS/audios/ERUIDO1994_20231031011217.mp3\n"
     ]
    }
   ],
   "source": [
    "audio_name = \"/home/rafael-hayde/Desktop/fusa/fusa-net-experiments/datasets/VitGlobal-ROADS/audios/ERUIDO1994_20231031011217.mp3\"\n",
    "response = !curl -s -X POST {URI} -H  \"accept: application/json\" -H  \"X-Api-Key:{API_KEY}\" -H  \"Content-Type: multipart/form-data\" -F \"file=@{audio_name};type=audio/mp3\"\n",
    "\n",
    "try:\n",
    "    categories_dict = json.loads(response[0])['categories']\n",
    "    filtered_predictions = filter_predictions(categories_dict, threshold)\n",
    "    audio_duration = get_audio_duration(audio_name)\n",
    "    classes_metrics = calculate_metrics(filtered_predictions, audio_duration)\n",
    "    audio_path = Path(audio_name)\n",
    "    classes_metrics['filename'] = str(Path(audio_path))\n",
    "except Exception as e:\n",
    "    print(e, audio_name)"
   ]
  },
  {
   "cell_type": "code",
   "execution_count": 6,
   "id": "8bd10773",
   "metadata": {},
   "outputs": [
    {
     "ename": "NameError",
     "evalue": "name 'classes_metrics' is not defined",
     "output_type": "error",
     "traceback": [
      "\u001b[0;31m---------------------------------------------------------------------------\u001b[0m",
      "\u001b[0;31mNameError\u001b[0m                                 Traceback (most recent call last)",
      "Cell \u001b[0;32mIn[6], line 1\u001b[0m\n\u001b[0;32m----> 1\u001b[0m \u001b[43mclasses_metrics\u001b[49m\n",
      "\u001b[0;31mNameError\u001b[0m: name 'classes_metrics' is not defined"
     ]
    }
   ],
   "source": [
    "classes_metrics"
   ]
  },
  {
   "cell_type": "code",
   "execution_count": null,
   "id": "a46dd2ec",
   "metadata": {},
   "outputs": [],
   "source": []
  }
 ],
 "metadata": {
  "kernelspec": {
   "display_name": "fusa",
   "language": "python",
   "name": "python3"
  },
  "language_info": {
   "codemirror_mode": {
    "name": "ipython",
    "version": 3
   },
   "file_extension": ".py",
   "mimetype": "text/x-python",
   "name": "python",
   "nbconvert_exporter": "python",
   "pygments_lexer": "ipython3",
   "version": "3.8.20"
  }
 },
 "nbformat": 4,
 "nbformat_minor": 5
}
