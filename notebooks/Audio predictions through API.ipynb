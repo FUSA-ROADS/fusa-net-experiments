{
 "cells": [
  {
   "cell_type": "code",
   "execution_count": 24,
   "id": "95c57062",
   "metadata": {},
   "outputs": [],
   "source": [
    "from pathlib import Path\n",
    "import json\n",
    "import pandas as pd\n",
    "import librosa"
   ]
  },
  {
   "cell_type": "code",
   "execution_count": 25,
   "id": "a2e3bbab",
   "metadata": {},
   "outputs": [
    {
     "name": "stdout",
     "output_type": "stream",
     "text": [
      "https://api.labacam.org/predictions?model=PANN-tag-5s/\n"
     ]
    }
   ],
   "source": [
    "FUSA_SERVER=\"https://api.labacam.org\"\n",
    "API_KEY=\"zIkYk2VwBiC762O4yFSd\"\n",
    "\n",
    "ENDPOINT=\"predictions\"\n",
    "MODEL=\"PANN-tag-5s\"\n",
    "\n",
    "URI = f\"{FUSA_SERVER}/{ENDPOINT}?model={MODEL}/\"\n",
    "\n",
    "print(URI)"
   ]
  },
  {
   "cell_type": "code",
   "execution_count": 26,
   "id": "c6a8ed91",
   "metadata": {},
   "outputs": [],
   "source": [
    "threshold = 0.01"
   ]
  },
  {
   "cell_type": "code",
   "execution_count": 27,
   "id": "cad3e292",
   "metadata": {},
   "outputs": [],
   "source": [
    "def filter_predictions(categories_dict, threshold):\n",
    "    filtered_dict = {}\n",
    "    for key, values in categories_dict.items():\n",
    "        values_list = []\n",
    "        for value in values:\n",
    "            if value['probability'] > threshold:\n",
    "                values_list.append(value)\n",
    "            filtered_dict.update({key:values_list})\n",
    "    return filtered_dict\n",
    "\n",
    "def calculate_metrics(filtered_predictions, audio_duration):\n",
    "    df = pd.DataFrame([], columns  = ['event', 'duration_ratio', 'avg_acc'])\n",
    "    class_tags, duration_ratio, avg_acc = [], [], []\n",
    "    for class_tags in filtered_predictions:\n",
    "        avg_acc = 0\n",
    "        tags = filtered_predictions[class_tags]\n",
    "        c = len(tags)\n",
    "        if c > 0:\n",
    "            for tag in tags:\n",
    "                avg_acc += tag['probability']\n",
    "            duration_ratio = (c * 5) / audio_duration\n",
    "            avg_acc = avg_acc / c\n",
    "            d = {'event' : class_tags, 'duration_ratio': round(duration_ratio, 3), 'avg_acc': round(avg_acc, 3)}\n",
    "            output = pd.DataFrame([d])\n",
    "            df = pd.concat([df, output], ignore_index=True)\n",
    "    df = df.sort_values(by='duration_ratio', ascending=False).head(5)\n",
    "    return df\n",
    "\n",
    "def get_audio_duration(audio_path):\n",
    "    return librosa.get_duration(filename=audio_path)"
   ]
  },
  {
   "cell_type": "code",
   "execution_count": 28,
   "id": "8e1fd99c",
   "metadata": {},
   "outputs": [],
   "source": [
    "audio_name = \"paisaje.sonoro.2.ACUS15522.mancilla.mp3\"\n",
    "response = !curl -s -X POST {URI} -H  \"accept: application/json\" -H  \"X-Api-Key:{API_KEY}\" -H  \"Content-Type: multipart/form-data\" -F \"file=@{audio_name};type=audio/wav\"\n",
    "\n",
    "try:\n",
    "    categories_dict = json.loads(response[0])['categories']\n",
    "    filtered_predictions = filter_predictions(categories_dict, threshold)\n",
    "    audio_duration = get_audio_duration(audio_name)\n",
    "    classes_metrics = calculate_metrics(filtered_predictions, audio_duration)\n",
    "    audio_path = Path(audio_name)\n",
    "    classes_metrics['filename'] = str(Path(audio_path))\n",
    "except Exception as e:\n",
    "    print(e, audio_name)"
   ]
  },
  {
   "cell_type": "code",
   "execution_count": 29,
   "id": "8bd10773",
   "metadata": {},
   "outputs": [
    {
     "data": {
      "text/html": [
       "<div>\n",
       "<style scoped>\n",
       "    .dataframe tbody tr th:only-of-type {\n",
       "        vertical-align: middle;\n",
       "    }\n",
       "\n",
       "    .dataframe tbody tr th {\n",
       "        vertical-align: top;\n",
       "    }\n",
       "\n",
       "    .dataframe thead th {\n",
       "        text-align: right;\n",
       "    }\n",
       "</style>\n",
       "<table border=\"1\" class=\"dataframe\">\n",
       "  <thead>\n",
       "    <tr style=\"text-align: right;\">\n",
       "      <th></th>\n",
       "      <th>event</th>\n",
       "      <th>duration_ratio</th>\n",
       "      <th>avg_acc</th>\n",
       "      <th>filename</th>\n",
       "    </tr>\n",
       "  </thead>\n",
       "  <tbody>\n",
       "    <tr>\n",
       "      <th>7</th>\n",
       "      <td>music/music</td>\n",
       "      <td>0.840</td>\n",
       "      <td>0.789</td>\n",
       "      <td>paisaje.sonoro.2.ACUS15522.mancilla.mp3</td>\n",
       "    </tr>\n",
       "    <tr>\n",
       "      <th>2</th>\n",
       "      <td>animal/others</td>\n",
       "      <td>0.420</td>\n",
       "      <td>0.034</td>\n",
       "      <td>paisaje.sonoro.2.ACUS15522.mancilla.mp3</td>\n",
       "    </tr>\n",
       "    <tr>\n",
       "      <th>4</th>\n",
       "      <td>mechanical/air_conditioner</td>\n",
       "      <td>0.252</td>\n",
       "      <td>0.152</td>\n",
       "      <td>paisaje.sonoro.2.ACUS15522.mancilla.mp3</td>\n",
       "    </tr>\n",
       "    <tr>\n",
       "      <th>0</th>\n",
       "      <td>animal/bird</td>\n",
       "      <td>0.168</td>\n",
       "      <td>0.812</td>\n",
       "      <td>paisaje.sonoro.2.ACUS15522.mancilla.mp3</td>\n",
       "    </tr>\n",
       "    <tr>\n",
       "      <th>3</th>\n",
       "      <td>humans/others</td>\n",
       "      <td>0.168</td>\n",
       "      <td>0.016</td>\n",
       "      <td>paisaje.sonoro.2.ACUS15522.mancilla.mp3</td>\n",
       "    </tr>\n",
       "  </tbody>\n",
       "</table>\n",
       "</div>"
      ],
      "text/plain": [
       "                        event  duration_ratio  avg_acc  \\\n",
       "7                 music/music           0.840    0.789   \n",
       "2               animal/others           0.420    0.034   \n",
       "4  mechanical/air_conditioner           0.252    0.152   \n",
       "0                 animal/bird           0.168    0.812   \n",
       "3               humans/others           0.168    0.016   \n",
       "\n",
       "                                  filename  \n",
       "7  paisaje.sonoro.2.ACUS15522.mancilla.mp3  \n",
       "2  paisaje.sonoro.2.ACUS15522.mancilla.mp3  \n",
       "4  paisaje.sonoro.2.ACUS15522.mancilla.mp3  \n",
       "0  paisaje.sonoro.2.ACUS15522.mancilla.mp3  \n",
       "3  paisaje.sonoro.2.ACUS15522.mancilla.mp3  "
      ]
     },
     "execution_count": 29,
     "metadata": {},
     "output_type": "execute_result"
    }
   ],
   "source": [
    "classes_metrics"
   ]
  }
 ],
 "metadata": {
  "kernelspec": {
   "display_name": "fusa",
   "language": "python",
   "name": "fusa"
  },
  "language_info": {
   "codemirror_mode": {
    "name": "ipython",
    "version": 3
   },
   "file_extension": ".py",
   "mimetype": "text/x-python",
   "name": "python",
   "nbconvert_exporter": "python",
   "pygments_lexer": "ipython3",
   "version": "3.9.13"
  }
 },
 "nbformat": 4,
 "nbformat_minor": 5
}
