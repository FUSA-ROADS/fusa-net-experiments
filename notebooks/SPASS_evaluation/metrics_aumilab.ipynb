{
 "cells": [
  {
   "cell_type": "code",
   "execution_count": 7,
   "id": "ccdc2868",
   "metadata": {},
   "outputs": [
    {
     "name": "stdout",
     "output_type": "stream",
     "text": [
      "The autoreload extension is already loaded. To reload it, use:\n",
      "  %reload_ext autoreload\n",
      "../../experiments/Poliphonic-PANN-sed-no-pretrained\n"
     ]
    }
   ],
   "source": [
    "%load_ext autoreload \n",
    "%autoreload 2\n",
    "\n",
    "import yaml\n",
    "import json\n",
    "import numpy as np\n",
    "import pandas as pd\n",
    "import matplotlib.pyplot as plt\n",
    "from tqdm.notebook import tqdm\n",
    "from pathlib import Path\n",
    "import torch\n",
    "from torch.utils.data import DataLoader, ConcatDataset\n",
    "import torchaudio\n",
    "\n",
    "from fusanet_utils.datasets.aumilab import AUMILAB\n",
    "from fusanet_utils.datasets.fusa import FUSA_dataset\n",
    "from fusanet_utils.transforms import Collate_and_transform\n",
    "\n",
    "scenarios = {0:'square', 1:'park', 2:'waterfront', 3:'market', 4:'street'}\n",
    "is_scenario = lambda filename: [key for key, scene in scenarios.items() if scene in filename][0]\n",
    "    \n",
    "preds_soft, labels, distances, places, names = [], [], [], [], []\n",
    "#experiment_path = Path('../../experiments/Poliphonic-PANN-sed-no-pretrained-valid-loss/')\n",
    "experiment_path = Path('../../experiments/Poliphonic-PANN-sed-no-pretrained/')\n",
    "print(experiment_path)\n",
    "\n",
    "categories = json.load(open(str(experiment_path / 'index_to_name.json')))\n",
    "fusa_taxonomy = json.load(open('../../fusa_taxonomy.json'))\n",
    "taxonony_translator = {label: key for key, value in fusa_taxonomy.items() for label in value['SPASS']}\n",
    "translated_categories = {key: taxonony_translator[value] for key, value in categories.items()}  \n",
    "\n",
    "model = torch.load(str(experiment_path / 'model.pt'))\n",
    "model.eval()\n",
    "params = yaml.safe_load(open(str(experiment_path / 'params.yaml')))"
   ]
  },
  {
   "cell_type": "code",
   "execution_count": 8,
   "id": "2b9380e5",
   "metadata": {},
   "outputs": [],
   "source": [
    "dataset = AUMILAB('../..', categories=translated_categories.values())\n",
    "\n",
    "fusa_dataset = FUSA_dataset(ConcatDataset([dataset]), params)\n",
    "fusa_loader = DataLoader(fusa_dataset, batch_size=10, shuffle=False, pin_memory=True, num_workers=2,\n",
    "                         collate_fn=Collate_and_transform(params[\"features\"]))"
   ]
  },
  {
   "cell_type": "code",
   "execution_count": 22,
   "id": "5016fa13",
   "metadata": {},
   "outputs": [
    {
     "data": {
      "text/plain": [
       "{'0': 'Vwater',\n",
       " '1': 'air_conditioner',\n",
       " '2': 'airborne',\n",
       " '3': 'alarm',\n",
       " '4': 'bells',\n",
       " '5': 'bird',\n",
       " '6': 'braking',\n",
       " '7': 'bus_idling',\n",
       " '8': 'bus_moving',\n",
       " '9': 'car_idling',\n",
       " '10': 'car_moving',\n",
       " '11': 'crowd',\n",
       " '12': 'cutting',\n",
       " '13': 'dog',\n",
       " '14': 'drilling',\n",
       " '15': 'explosives',\n",
       " '16': 'fireworks',\n",
       " '17': 'horn',\n",
       " '18': 'impact',\n",
       " '19': 'motorcycle_idling',\n",
       " '20': 'motorcycle_moving',\n",
       " '21': 'music',\n",
       " '22': 'rain',\n",
       " '23': 'river',\n",
       " '24': 'shouting',\n",
       " '25': 'siren',\n",
       " '26': 'steps',\n",
       " '27': 'talk',\n",
       " '28': 'truck_idling',\n",
       " '29': 'truck_moving',\n",
       " '30': 'water',\n",
       " '31': 'waves',\n",
       " '32': 'wind'}"
      ]
     },
     "execution_count": 22,
     "metadata": {},
     "output_type": "execute_result"
    }
   ],
   "source": [
    "categories"
   ]
  },
  {
   "cell_type": "code",
   "execution_count": 27,
   "id": "1982f5c0",
   "metadata": {},
   "outputs": [
    {
     "data": {
      "text/plain": [
       "{'0': 'Vwater',\n",
       " '1': 'air_conditioner',\n",
       " '2': 'airborne',\n",
       " '3': 'alarm',\n",
       " '4': 'bells',\n",
       " '5': 'bird',\n",
       " '6': 'braking',\n",
       " '7': 'bus_idling',\n",
       " '8': 'bus_moving',\n",
       " '9': 'car_idling',\n",
       " '10': 'car_moving',\n",
       " '11': 'crowd',\n",
       " '12': 'cutting',\n",
       " '13': 'dog',\n",
       " '14': 'drilling',\n",
       " '15': 'explosives',\n",
       " '16': 'fireworks',\n",
       " '17': 'horn',\n",
       " '18': 'impact',\n",
       " '19': 'motorcycle_idling',\n",
       " '20': 'motorcycle_moving',\n",
       " '21': 'music',\n",
       " '22': 'rain',\n",
       " '23': 'river',\n",
       " '24': 'shouting',\n",
       " '25': 'siren',\n",
       " '26': 'steps',\n",
       " '27': 'talk',\n",
       " '28': 'truck_idling',\n",
       " '29': 'truck_moving',\n",
       " '30': 'water',\n",
       " '31': 'waves',\n",
       " '32': 'wind'}"
      ]
     },
     "execution_count": 27,
     "metadata": {},
     "output_type": "execute_result"
    }
   ],
   "source": [
    "categories"
   ]
  },
  {
   "cell_type": "code",
   "execution_count": 26,
   "id": "3ed1644e",
   "metadata": {},
   "outputs": [
    {
     "data": {
      "text/plain": [
       "{'0': 'vehicles/water',\n",
       " '1': 'mechanical/air_conditioner',\n",
       " '2': 'vehicles/airborne',\n",
       " '3': 'alerts/alarms',\n",
       " '4': 'alerts/bells',\n",
       " '5': 'animal/bird',\n",
       " '6': 'alerts/braking and skidding',\n",
       " '7': 'vehicles/bus',\n",
       " '8': 'vehicles/bus',\n",
       " '9': 'vehicles/cars',\n",
       " '10': 'vehicles/cars',\n",
       " '11': 'humans/crowd',\n",
       " '12': 'mechanical/cutting',\n",
       " '13': 'animal/dog',\n",
       " '14': 'mechanical/digging',\n",
       " '15': 'mechanical/explosives',\n",
       " '16': 'mechanical/explosives',\n",
       " '17': 'alerts/horns',\n",
       " '18': 'mechanical/impact',\n",
       " '19': 'vehicles/motorcycles',\n",
       " '20': 'vehicles/motorcycles',\n",
       " '21': 'music/music',\n",
       " '22': 'environmental/rain',\n",
       " '23': 'environmental/river',\n",
       " '24': 'humans/shouting',\n",
       " '25': 'alerts/siren',\n",
       " '26': 'humans/others',\n",
       " '27': 'humans/talk',\n",
       " '28': 'vehicles/bus',\n",
       " '29': 'vehicles/bus',\n",
       " '30': 'environmental/water',\n",
       " '31': 'environmental/waves',\n",
       " '32': 'environmental/wind'}"
      ]
     },
     "execution_count": 26,
     "metadata": {},
     "output_type": "execute_result"
    }
   ],
   "source": [
    "translated_categories"
   ]
  },
  {
   "cell_type": "code",
   "execution_count": 21,
   "id": "8884068f",
   "metadata": {},
   "outputs": [
    {
     "data": {
      "text/plain": [
       "torch.Size([10, 6001, 27])"
      ]
     },
     "execution_count": 21,
     "metadata": {},
     "output_type": "execute_result"
    }
   ],
   "source": [
    "preds = preds_model[0]\n",
    "\n",
    "preds_reduced = torch.zeros(preds.shape[0], preds.shape[1], len(dataset.categories))\n",
    "for key, value in categories.items()\n",
    "    preds_reduced[:, :, ]"
   ]
  },
  {
   "cell_type": "code",
   "execution_count": 3,
   "id": "6b86b856",
   "metadata": {},
   "outputs": [
    {
     "data": {
      "application/vnd.jupyter.widget-view+json": {
       "model_id": "aa5bca244b614d3b9c17bb085103bec9",
       "version_major": 2,
       "version_minor": 0
      },
      "text/plain": [
       "  0%|          | 0/127 [00:00<?, ?it/s]"
      ]
     },
     "metadata": {},
     "output_type": "display_data"
    }
   ],
   "source": [
    "preds_model, labels_model, file_names = [], [], []\n",
    "with torch.no_grad():\n",
    "    for sample in tqdm(fusa_loader):\n",
    "        preds_model.append(model(sample).numpy())\n",
    "        labels_model.append(sample['label'].numpy())\n",
    "        file_names.append(sample['filename'])\n",
    "        break\n",
    "preds_soft.append(np.concatenate(preds_model))\n",
    "labels.append(np.concatenate(labels_model))\n",
    "names.append(np.concatenate(file_names))"
   ]
  },
  {
   "cell_type": "code",
   "execution_count": 6,
   "id": "ac4f6298",
   "metadata": {},
   "outputs": [
    {
     "data": {
      "text/plain": [
       "{'0': 'vehicles/water',\n",
       " '1': 'mechanical/air_conditioner',\n",
       " '2': 'vehicles/airborne',\n",
       " '3': 'alerts/alarms',\n",
       " '4': 'alerts/bells',\n",
       " '5': 'animal/bird',\n",
       " '6': 'alerts/braking and skidding',\n",
       " '7': 'vehicles/bus',\n",
       " '8': 'vehicles/bus',\n",
       " '9': 'vehicles/cars',\n",
       " '10': 'vehicles/cars',\n",
       " '11': 'humans/crowd',\n",
       " '12': 'mechanical/cutting',\n",
       " '13': 'animal/dog',\n",
       " '14': 'mechanical/digging',\n",
       " '15': 'mechanical/explosives',\n",
       " '16': 'mechanical/explosives',\n",
       " '17': 'alerts/horns',\n",
       " '18': 'mechanical/impact',\n",
       " '19': 'vehicles/motorcycles',\n",
       " '20': 'vehicles/motorcycles',\n",
       " '21': 'music/music',\n",
       " '22': 'environmental/rain',\n",
       " '23': 'environmental/river',\n",
       " '24': 'humans/shouting',\n",
       " '25': 'alerts/siren',\n",
       " '26': 'humans/others',\n",
       " '27': 'humans/talk',\n",
       " '28': 'vehicles/bus',\n",
       " '29': 'vehicles/bus',\n",
       " '30': 'environmental/water',\n",
       " '31': 'environmental/waves',\n",
       " '32': 'environmental/wind'}"
      ]
     },
     "execution_count": 6,
     "metadata": {},
     "output_type": "execute_result"
    }
   ],
   "source": [
    "categories"
   ]
  },
  {
   "cell_type": "code",
   "execution_count": 5,
   "id": "c9b43c61",
   "metadata": {},
   "outputs": [
    {
     "data": {
      "text/plain": [
       "(10, 6001, 33)"
      ]
     },
     "execution_count": 5,
     "metadata": {},
     "output_type": "execute_result"
    }
   ],
   "source": [
    "preds_model[0].shape"
   ]
  },
  {
   "cell_type": "code",
   "execution_count": 45,
   "id": "36e1a178",
   "metadata": {
    "scrolled": false
   },
   "outputs": [
    {
     "ename": "ValueError",
     "evalue": "operands could not be broadcast together with shapes (33,6001) (27,6001) ",
     "output_type": "error",
     "traceback": [
      "\u001b[0;31m---------------------------------------------------------------------------\u001b[0m",
      "\u001b[0;31mValueError\u001b[0m                                Traceback (most recent call last)",
      "Input \u001b[0;32mIn [45]\u001b[0m, in \u001b[0;36m<cell line: 25>\u001b[0;34m()\u001b[0m\n\u001b[1;32m     21\u001b[0m     ax[\u001b[38;5;241m2\u001b[39m]\u001b[38;5;241m.\u001b[39mgrid()\n\u001b[1;32m     23\u001b[0m     \u001b[38;5;28;01mreturn\u001b[39;00m Audio(Path(\u001b[38;5;124m'\u001b[39m\u001b[38;5;124m../datasets/AUMILAB/audios/\u001b[39m\u001b[38;5;124m'\u001b[39m) \u001b[38;5;241m/\u001b[39m names[model][idx])\n\u001b[0;32m---> 25\u001b[0m \u001b[43mplot_file_prediction\u001b[49m\u001b[43m(\u001b[49m\u001b[38;5;241;43m0\u001b[39;49m\u001b[43m,\u001b[49m\u001b[43m \u001b[49m\u001b[38;5;241;43m1\u001b[39;49m\u001b[43m,\u001b[49m\u001b[43m \u001b[49m\u001b[38;5;241;43m0.3\u001b[39;49m\u001b[43m)\u001b[49m\n",
      "Input \u001b[0;32mIn [45]\u001b[0m, in \u001b[0;36mplot_file_prediction\u001b[0;34m(model, idx, th)\u001b[0m\n\u001b[1;32m     12\u001b[0m ax[\u001b[38;5;241m0\u001b[39m]\u001b[38;5;241m.\u001b[39mset_title(names[model][idx])\n\u001b[1;32m     13\u001b[0m ax[\u001b[38;5;241m1\u001b[39m]\u001b[38;5;241m.\u001b[39mset_title(\u001b[38;5;124m'\u001b[39m\u001b[38;5;124mPredicción\u001b[39m\u001b[38;5;124m'\u001b[39m)\n\u001b[0;32m---> 14\u001b[0m cmap \u001b[38;5;241m=\u001b[39m ax[\u001b[38;5;241m2\u001b[39m]\u001b[38;5;241m.\u001b[39mpcolormesh((\u001b[43mpred\u001b[49m\u001b[43m \u001b[49m\u001b[38;5;241;43m-\u001b[39;49m\u001b[43m \u001b[49m\u001b[43mlabel\u001b[49m), cmap\u001b[38;5;241m=\u001b[39mplt\u001b[38;5;241m.\u001b[39mcm\u001b[38;5;241m.\u001b[39mRdBu, vmin\u001b[38;5;241m=\u001b[39m\u001b[38;5;241m-\u001b[39m\u001b[38;5;241m1\u001b[39m, vmax\u001b[38;5;241m=\u001b[39m\u001b[38;5;241m1\u001b[39m)\n\u001b[1;32m     15\u001b[0m fig\u001b[38;5;241m.\u001b[39mcolorbar(cmap)\n\u001b[1;32m     16\u001b[0m ax[\u001b[38;5;241m2\u001b[39m]\u001b[38;5;241m.\u001b[39mset_title(\u001b[38;5;124m'\u001b[39m\u001b[38;5;124mError\u001b[39m\u001b[38;5;124m'\u001b[39m)\n",
      "\u001b[0;31mValueError\u001b[0m: operands could not be broadcast together with shapes (33,6001) (27,6001) "
     ]
    },
    {
     "data": {
      "image/png": "[encoded data removed]",
      "text/plain": [
       "<Figure size 1200x720 with 3 Axes>"
      ]
     },
     "metadata": {},
     "output_type": "display_data"
    }
   ],
   "source": [
    "from IPython.display import Audio\n",
    "\n",
    "def plot_file_prediction(model: int, idx: int, th: float=None):\n",
    "    if th is not None:\n",
    "        pred = (preds_soft[model][idx] > th).T#[3:, :]\n",
    "    \n",
    "    label = labels[model][idx].T\n",
    "    fig, ax = plt.subplots(1, 3, figsize=(10, 6), facecolor='w', dpi=120,\n",
    "                           tight_layout=True, sharex=True, sharey=True)\n",
    "    ax[0].pcolormesh(label, cmap=plt.cm.Blues, vmin=0, vmax=1)\n",
    "    ax[1].pcolormesh(pred, cmap=plt.cm.Blues, vmin=0, vmax=1)\n",
    "    ax[0].set_title(names[model][idx])\n",
    "    ax[1].set_title('Predicción')\n",
    "    cmap = ax[2].pcolormesh((pred - label), cmap=plt.cm.RdBu, vmin=-1, vmax=1)\n",
    "    fig.colorbar(cmap)\n",
    "    ax[2].set_title('Error')\n",
    "    ax[0].set_yticks(np.arange(0, len(dataset.categories), step=1) + 0.5)\n",
    "    ax[0].set_yticklabels((dataset.categories));\n",
    "    ax[0].grid()\n",
    "    ax[1].grid()\n",
    "    ax[2].grid()\n",
    "    \n",
    "    return Audio(Path('../datasets/AUMILAB/audios/') / names[model][idx])\n",
    "    \n",
    "plot_file_prediction(0, 1, 0.3)\n",
    "#plot_file_prediction(1, 90, 0.3)"
   ]
  },
  {
   "cell_type": "raw",
   "id": "e1b77823",
   "metadata": {},
   "source": [
    "th = 0.45\n",
    "models = ['Adavanne et al. 2017', 'Kong et al. 2019']\n",
    "preds = [preds_soft[model] > th for model in range(len(models))]"
   ]
  },
  {
   "cell_type": "raw",
   "id": "176d3a3d",
   "metadata": {},
   "source": [
    "Por clase para todos los ambientes"
   ]
  },
  {
   "cell_type": "raw",
   "id": "d44aece3",
   "metadata": {},
   "source": [
    "fig, ax = plt.subplots(figsize=(5, 6), facecolor='w', dpi=120,\n",
    "                       tight_layout=True, sharey=True, sharex=True)\n",
    "\n",
    "for k, model_name in enumerate(models):\n",
    "    insertions = np.mean((preds[k]==1) & (labels[k]==0), axis=(0, 1))\n",
    "    deletions = np.mean((preds[k]==0) & (labels[k]==1), axis=(0, 1))\n",
    "    error_rate = insertions + deletions\n",
    "    ax.barh(y=list(dataset.categories), width=100*error_rate, alpha=0.5, label=model_name)\n",
    "\n",
    "ax.legend()\n",
    "ax.grid()\n",
    "ax.set_xlabel('Error rate [%]');"
   ]
  },
  {
   "cell_type": "raw",
   "id": "a6c06bcd",
   "metadata": {},
   "source": [
    "Por ambiente separado por clase:"
   ]
  },
  {
   "cell_type": "raw",
   "id": "933fe2fe",
   "metadata": {
    "scrolled": false
   },
   "source": [
    "fig, ax = plt.subplots(1, 5, figsize=(10,  6), facecolor='w', dpi=120,\n",
    "                       tight_layout=True, sharey=True, sharex=True)\n",
    "for k, model_name in enumerate(models):\n",
    "    insertions = np.mean(np.stack([(preds[k][places[k]==place] == 1) & (labels[k][places[k]==place] == 0) for place in scenarios.keys()]), axis=(1, 2))\n",
    "    deletions = np.mean(np.stack([(preds[k][places[k]==place] == 0) & (labels[k][places[k]==place] == 1) for place in scenarios.keys()]), axis=(1, 2))\n",
    "    \n",
    "    for ax_, ins, dels, scene in zip(ax, insertions, deletions, scenarios.values()):\n",
    "        error_rate = (ins + dels)*100\n",
    "        ax_.barh(y=list(dataset.categories), width=error_rate, label=model_name, alpha=0.5)\n",
    "        ax_.set_title(scene)\n",
    "        ax_.grid('on')\n",
    "        #ax_.legend()\n",
    "        ax_.set_xlabel('Error rate [%]')"
   ]
  },
  {
   "cell_type": "raw",
   "id": "8a17a2d7",
   "metadata": {},
   "source": [
    "Por ambiente:"
   ]
  },
  {
   "cell_type": "raw",
   "id": "9cedb927",
   "metadata": {},
   "source": [
    "fig, ax = plt.subplots(figsize=(4, 3), facecolor='w', dpi=120,\n",
    "                       tight_layout=True, sharey=True, sharex=True)\n",
    "for k, model_name in enumerate(models):\n",
    "    insertions = np.mean(np.stack([(preds[k][places[k]==place] == 1) & (labels[k][places[k]==place] == 0) for place in scenarios.keys()]), axis=(1, 2, 3))\n",
    "    deletions = np.mean(np.stack([(preds[k][places[k]==place] == 0) & (labels[k][places[k]==place] == 1) for place in scenarios.keys()]), axis=(1, 2, 3))\n",
    "    error_rate = 100*(insertions+deletions)\n",
    "    ax.barh(y=list(scenarios.values()), width=error_rate, label=model_name, alpha=0.5)\n",
    "\n",
    "ax.legend(bbox_to_anchor=(0.3, 1.02, 1., .102))\n",
    "ax.grid()\n",
    "ax.set_xlabel('Error rate [%]');"
   ]
  },
  {
   "cell_type": "raw",
   "id": "17eb7869",
   "metadata": {},
   "source": [
    "Por macro clase:"
   ]
  },
  {
   "cell_type": "raw",
   "id": "209582ba",
   "metadata": {},
   "source": [
    "categories = {}\n",
    "for k, category in enumerate(dataset.categories):\n",
    "    categories[k] = category\n",
    "inv_categories = {}\n",
    "for key, values in categories.items():\n",
    "    inv_categories[values] = int(key)\n",
    "    \n",
    "macro_classes = ['human', 'animal', 'alerts', 'music', 'environmental', 'mechanical', 'vehicle']\n",
    "fusa_taxonomy = {0: ['crowd', 'shouting', 'talk', 'steps'],\n",
    "                 1: ['bird', 'dog'], \n",
    "                 2: ['siren', 'bells', 'alarm', 'horn', 'braking'],\n",
    "                 3: ['music'],\n",
    "                 4: ['rain', 'wind', 'water', 'river', 'waves'],\n",
    "                 5: ['cutting', 'drilling', 'fireworks', \n",
    "                     'impact', 'explosives', 'air_conditioner'],\n",
    "                 6: ['car_idling', 'car_moving', 'bus_idling', 'bus_moving', 'airborne',\n",
    "                     'motorcycle_idling', 'motorcycle_moving', 'truck_idling', 'truck_moving', 'Vwater']\n",
    "                }\n",
    "fusa_taxonomy_int = {}\n",
    "for key, values in fusa_taxonomy.items():\n",
    "    transformed_values = []\n",
    "    for value in values:\n",
    "        transformed_values.append(inv_categories[value])\n",
    "    fusa_taxonomy_int[key] = transformed_values\n",
    "        \n",
    "inv_taxonomy = {}\n",
    "for key, values in fusa_taxonomy_int.items():\n",
    "    for value in values:\n",
    "        inv_taxonomy[value] = key\n",
    "        \n",
    "\n",
    "fig, ax = plt.subplots(figsize=(4, 3), facecolor='w', dpi=120,\n",
    "                       tight_layout=True, sharey=True, sharex=True)\n",
    "\n",
    "for k, model_name in enumerate(models):\n",
    "    pred_macro = np.stack([np.amax(preds[k][:, :, fusa_taxonomy_int[macro]], axis=-1) for macro in range(len(macro_classes))])\n",
    "    label_macro = np.stack([np.amax(labels[k][:, :, fusa_taxonomy_int[macro]], axis=-1) for macro in range(len(macro_classes))])\n",
    "\n",
    "    insertions = np.mean((pred_macro == 1) & (label_macro==0), axis=(1, 2))\n",
    "    deletions = np.mean((pred_macro == 0) & (label_macro==1), axis=(1, 2))\n",
    "\n",
    "    error_rate = 100*(insertions + deletions)\n",
    "    ax.barh(y=macro_classes, width=error_rate, label=model_name, alpha=0.5)\n",
    "ax.legend(bbox_to_anchor=(0.2, 1.02, 1., .102))\n",
    "ax.grid()\n",
    "ax.set_xlabel('Error Rate [%]');"
   ]
  },
  {
   "cell_type": "raw",
   "id": "7343d9dd",
   "metadata": {},
   "source": [
    "Intercambio entre clase idling y clase moving:"
   ]
  },
  {
   "cell_type": "raw",
   "id": "c486b423",
   "metadata": {},
   "source": [
    "def count_swapped(class1, class2):\n",
    "    print(categories[str(class1)], categories[str(class2)])\n",
    "    swap1 = np.sum(((preds[:, class1, :] == 0) & (preds[:, class2, :] == 1) & (labels[:, class1, :] == 1) & (labels[:, class2, :] == 0) ))\n",
    "    swap2 = np.sum(((preds[:, class1, :] == 1) & (preds[:, class2, :] == 0) & (labels[:, class1, :] == 0) & (labels[:, class2, :] == 1) ))\n",
    "    print(swap1, swap2)\n",
    "\n",
    "\n",
    "count_swapped(7, 8)\n",
    "count_swapped(9, 10)\n",
    "count_swapped(18, 19)\n",
    "count_swapped(28, 29)"
   ]
  },
  {
   "cell_type": "code",
   "execution_count": null,
   "id": "a3572f1f",
   "metadata": {},
   "outputs": [],
   "source": []
  }
 ],
 "metadata": {
  "kernelspec": {
   "display_name": "Python 3 (ipykernel)",
   "language": "python",
   "name": "python3"
  },
  "language_info": {
   "codemirror_mode": {
    "name": "ipython",
    "version": 3
   },
   "file_extension": ".py",
   "mimetype": "text/x-python",
   "name": "python",
   "nbconvert_exporter": "python",
   "pygments_lexer": "ipython3",
   "version": "3.9.12"
  }
 },
 "nbformat": 4,
 "nbformat_minor": 5
}
