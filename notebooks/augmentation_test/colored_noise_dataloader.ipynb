{
 "cells": [
  {
   "cell_type": "code",
   "execution_count": null,
   "id": "3eb777fc",
   "metadata": {},
   "outputs": [],
   "source": [
    "%load_ext autoreload \n",
    "%autoreload 2\n",
    "\n",
    "from pathlib import Path\n",
    "import logging\n",
    "import yaml\n",
    "import json\n",
    "import numpy as np\n",
    "import matplotlib.pyplot as plt\n",
    "from tqdm.notebook import tqdm\n",
    "from IPython.display import Audio, display\n",
    "\n",
    "import torch\n",
    "from torch.utils.data import ConcatDataset, DataLoader\n",
    "from fusanet_utils.datasets.simulated import SimulatedPoliphonic\n",
    "from fusanet_utils.datasets.fusa import FUSA_dataset\n",
    "from fusanet_utils.transforms import Collate_and_transform\n",
    "from fusanet_utils.augmentations.additive_noise import RedNoise, WhiteNoise, PinkNoise\n",
    "\n",
    "\n",
    "logger = logging.getLogger()\n",
    "logger.setLevel(logging.DEBUG)\n",
    "\n",
    "\n",
    "path = Path('../../experiments/Poliphonic-ADAVANNE-sed/')\n",
    "params = yaml.safe_load(open(str(path  / 'params.yaml')))\n",
    "params['features']['overwrite'] = True\n",
    "model = torch.load(path / 'model.pt')\n",
    "dataset = SimulatedPoliphonic('../..', mini=False, external=True)\n",
    "fusa_dataset = FUSA_dataset(ConcatDataset([dataset]), params=params)\n",
    "print(len(dataset.categories), len(dataset))"
   ]
  },
  {
   "cell_type": "code",
   "execution_count": null,
   "id": "96bb2503",
   "metadata": {},
   "outputs": [],
   "source": [
    "collate_clean = Collate_and_transform(params['features'])\n",
    "collate_white = Collate_and_transform(params['features'], transforms=[WhiteNoise(snr=0.0)])\n",
    "collate_pink = Collate_and_transform(params['features'], transforms=[PinkNoise(snr=0.0)])\n",
    "collate_red = Collate_and_transform(params['features'], transforms=[RedNoise(snr=0.0)])\n",
    "\n",
    "fig, ax = plt.subplots()\n",
    "for my_collate in [collate_clean, collate_white, collate_pink, collate_red]:\n",
    "    loader = DataLoader(fusa_dataset, \n",
    "                        shuffle=False, \n",
    "                        batch_size=1, \n",
    "                        collate_fn=my_collate, \n",
    "                        num_workers=1, \n",
    "                        pin_memory=False)\n",
    "\n",
    "\n",
    "    for x in loader:\n",
    "        #print(x['filename'], x['mel_transform'].shape, x['label'].shape, model(x).shape)\n",
    "        break\n",
    "    \n",
    "    ax.plot(x['waveform'][0][0], alpha=0.5)\n",
    "    display(Audio(x['waveform'][0][0], rate=32000))"
   ]
  },
  {
   "cell_type": "code",
   "execution_count": null,
   "id": "afbd7c2a",
   "metadata": {},
   "outputs": [],
   "source": []
  }
 ],
 "metadata": {
  "kernelspec": {
   "display_name": "Python 3 (ipykernel)",
   "language": "python",
   "name": "python3"
  },
  "language_info": {
   "codemirror_mode": {
    "name": "ipython",
    "version": 3
   },
   "file_extension": ".py",
   "mimetype": "text/x-python",
   "name": "python",
   "nbconvert_exporter": "python",
   "pygments_lexer": "ipython3",
   "version": "3.9.12"
  }
 },
 "nbformat": 4,
 "nbformat_minor": 5
}
