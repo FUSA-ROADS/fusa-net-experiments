{
 "cells": [
  {
   "cell_type": "code",
   "execution_count": null,
   "id": "2970a534",
   "metadata": {},
   "outputs": [],
   "source": [
    "from pathlib import Path\n",
    "import torchaudio\n",
    "import pandas as pd\n",
    "from tqdm.notebook import tqdm\n",
    "#torchaudio.set_audio_backend(\"soundfile\")"
   ]
  },
  {
   "cell_type": "code",
   "execution_count": null,
   "id": "ef7494e7",
   "metadata": {},
   "outputs": [],
   "source": [
    "folder = Path('../../datasets/VitGlobal/')\n",
    "\n",
    "metadata = []\n",
    "for file in tqdm(list(folder.rglob('*.mp3'))):\n",
    "    try:\n",
    "        waveform, sample_rate = torchaudio.load(file)\n",
    "        metadata.append({'full_path': file, \n",
    "                         'filename': file.name, \n",
    "                         'size': file.stat().st_size,\n",
    "                         'date': pd.to_datetime(file.stem.split('_')[1]).date(),\n",
    "                         'time': pd.to_datetime(file.stem.split('_')[1]).time(),\n",
    "                         'duration': waveform.shape[-1]/sample_rate})\n",
    "    except:\n",
    "        print(f\"file {file} could not be opened\")\n",
    "    "
   ]
  },
  {
   "cell_type": "code",
   "execution_count": null,
   "id": "71b0e61a",
   "metadata": {},
   "outputs": [],
   "source": [
    "df = pd.DataFrame(metadata)\n",
    "df.to_csv('audios_vitglobal.csv')\n",
    "df[\"duration\"].sum()/60"
   ]
  },
  {
   "cell_type": "code",
   "execution_count": null,
   "id": "5f6a3dff",
   "metadata": {},
   "outputs": [],
   "source": [
    "#df = pd.read_csv('audios_vitglobal.csv', parse_dates=[4, 5])\n",
    "\n",
    "import matplotlib.pyplot as plt\n",
    "\n",
    "fig, ax = plt.subplots(4, 1, figsize=(4, 6), facecolor='w', tight_layout=True)\n",
    "df[\"date\"].apply(lambda x: x.month).value_counts().sort_index().plot(kind='bar', ax=ax[0]);\n",
    "df[\"date\"].apply(lambda x: x.weekday()).value_counts().sort_index().plot(kind='bar', ax=ax[1]);\n",
    "df[\"time\"].apply(lambda x: x.hour).value_counts().sort_index().plot(kind='bar', ax=ax[2]);\n",
    "df[\"duration\"].value_counts().sort_index().plot(kind='bar', ax=ax[3]);"
   ]
  },
  {
   "cell_type": "code",
   "execution_count": null,
   "id": "a80ecb35",
   "metadata": {},
   "outputs": [],
   "source": [
    "folder = Path('../../datasets/MMA/')\n",
    "\n",
    "metadata = []\n",
    "for file in tqdm(list(folder.rglob('Etiquetado 1/*/*/*.wav'))):\n",
    "    waveform, sample_rate = torchaudio.load(file)\n",
    "    date = pd.to_datetime(''.join(file.stem.split('-')[2:-1]), format='%Y%m%dT%H%M%S')\n",
    "    metadata.append({'full_path': file, \n",
    "                     'filename': file.parts[-1],\n",
    "                     'origin': file.parts[-3],\n",
    "                     'label': file.parts[-2],\n",
    "                     'size': file.stat().st_size,\n",
    "                     'date': date.date(),\n",
    "                     'time': date.time(),\n",
    "                     'duration': waveform.shape[-1]/sample_rate})\n",
    "    "
   ]
  },
  {
   "cell_type": "code",
   "execution_count": null,
   "id": "0c1617bd",
   "metadata": {},
   "outputs": [],
   "source": [
    "df = pd.DataFrame(metadata)\n",
    "df.to_csv('audios_mma1.csv')\n",
    "df[\"duration\"].sum()/60, df.shape"
   ]
  },
  {
   "cell_type": "code",
   "execution_count": null,
   "id": "87442b2e",
   "metadata": {},
   "outputs": [],
   "source": [
    "import matplotlib.pyplot as plt\n",
    "\n",
    "fig, ax = plt.subplots(3, 1, figsize=(4, 6), facecolor='w', tight_layout=True)\n",
    "df[\"date\"].apply(lambda x: x.month).value_counts().sort_index().plot(kind='bar', ax=ax[0]);\n",
    "\n",
    "df[\"date\"].apply(lambda x: x.weekday()).value_counts().sort_index().plot(kind='bar', ax=ax[1]);\n",
    "\n",
    "df[\"time\"].apply(lambda x: x.hour).value_counts().sort_index().plot(kind='bar', ax=ax[2]);"
   ]
  },
  {
   "cell_type": "code",
   "execution_count": null,
   "id": "96f72ffc",
   "metadata": {},
   "outputs": [],
   "source": [
    "folder = Path('../datasets/MMA/')\n",
    "\n",
    "metadata = []\n",
    "for file in tqdm(list(folder.rglob('Etiquetado 2/*/*.wav'))):\n",
    "    waveform, sample_rate = torchaudio.load(file)\n",
    "    date = pd.to_datetime(''.join(file.stem.split('-')[2:-1]), format='%Y%m%dT%H%M%S')\n",
    "    metadata.append({'full_path': file, \n",
    "                     'filename': file.parts[-1],\n",
    "                     'origin': file.parts[-3],\n",
    "                     'size': file.stat().st_size,\n",
    "                     'date': date.date(),\n",
    "                     'time': date.time(),\n",
    "                     'duration': waveform.shape[-1]/sample_rate})\n",
    "    "
   ]
  },
  {
   "cell_type": "code",
   "execution_count": null,
   "id": "610d9ad1",
   "metadata": {},
   "outputs": [],
   "source": [
    "df = pd.DataFrame(metadata)\n",
    "df.to_csv('audios_mma2.csv')\n",
    "df[\"duration\"].sum()/60, df.shape"
   ]
  },
  {
   "cell_type": "code",
   "execution_count": null,
   "id": "c4682248",
   "metadata": {},
   "outputs": [],
   "source": [
    "import matplotlib.pyplot as plt\n",
    "\n",
    "fig, ax = plt.subplots(3, 1, figsize=(4, 6), facecolor='w', tight_layout=True)\n",
    "df[\"date\"].apply(lambda x: x.month).value_counts().sort_index().plot(kind='bar', ax=ax[0]);\n",
    "\n",
    "df[\"date\"].apply(lambda x: x.weekday()).value_counts().sort_index().plot(kind='bar', ax=ax[1]);\n",
    "\n",
    "df[\"time\"].apply(lambda x: x.hour).value_counts().sort_index().plot(kind='bar', ax=ax[2]);"
   ]
  }
 ],
 "metadata": {
  "kernelspec": {
   "display_name": "Python 3 (ipykernel)",
   "language": "python",
   "name": "python3"
  },
  "language_info": {
   "codemirror_mode": {
    "name": "ipython",
    "version": 3
   },
   "file_extension": ".py",
   "mimetype": "text/x-python",
   "name": "python",
   "nbconvert_exporter": "python",
   "pygments_lexer": "ipython3",
   "version": "3.9.12"
  }
 },
 "nbformat": 4,
 "nbformat_minor": 5
}
