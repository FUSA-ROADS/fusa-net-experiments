{
 "cells": [
  {
   "cell_type": "code",
   "execution_count": 1,
   "id": "b832622f",
   "metadata": {},
   "outputs": [],
   "source": [
    "%load_ext autoreload\n",
    "%autoreload 2\n",
    "%matplotlib inline\n",
    "\n",
    "import pandas as pd\n",
    "from pathlib import Path\n",
    "import torch\n",
    "import torch.nn.functional as F\n",
    "import torchaudio\n",
    "from matplotlib import pyplot as plt\n",
    "from IPython.display import Audio, display\n",
    "from tqdm import tqdm\n",
    "\n",
    "p = Path('../datasets') \n",
    "df = pd.read_csv(p / 'AUMILAB/metadata/metadata.txt', sep=' ')"
   ]
  },
  {
   "cell_type": "code",
   "execution_count": 2,
   "id": "a619040d",
   "metadata": {},
   "outputs": [
    {
     "name": "stderr",
     "output_type": "stream",
     "text": [
      "100%|█████████| 6032/6032 [05:42<00:00, 17.62it/s]\n"
     ]
    }
   ],
   "source": [
    "# Para crear AUMILAB10s\n",
    "\n",
    "(p / 'AUMILAB10s').mkdir(exist_ok=True)\n",
    "(p / 'AUMILAB10s/audios').mkdir(exist_ok=True)\n",
    "(p / 'AUMILAB10s/metadata').mkdir(exist_ok=True)\n",
    "\n",
    "pd.set_option('mode.chained_assignment', None)\n",
    "seconds_per_block = 10\n",
    "new_csv = []\n",
    "\n",
    "for file, metadata in tqdm(df.groupby('filename')):\n",
    "    waveform, Fs = torchaudio.load(p / f'AUMILAB/audios/{file}')\n",
    "    splitted_waveforms = torch.split(waveform, Fs*seconds_per_block, dim=-1)\n",
    "    splitted_metadata = []\n",
    "    for k, new_waveform in enumerate(splitted_waveforms):\n",
    "        if new_waveform.shape[-1] < Fs*seconds_per_block: # Force 10 seconds\n",
    "            pad_length = Fs*10 - new_waveform.shape[-1]\n",
    "            new_waveform = F.pad(input=new_waveform, pad=(0, pad_length), mode='constant', value=0)\n",
    "        torchaudio.save(p / f'AUMILAB10s/audios/{file.split(\".\")[0]}_{k}.wav', new_waveform, Fs)\n",
    "\n",
    "        mask = (metadata['start'] < seconds_per_block*(k+1)) & (metadata['end'] > seconds_per_block*k)\n",
    "        new_metadata = metadata.loc[mask]\n",
    "        new_metadata[['start', 'end']] = new_metadata[['start',  'end']].transform(lambda x: x - seconds_per_block*k)\n",
    "        new_metadata.loc[new_metadata['start'] < 0., 'start'] = 0.\n",
    "        new_metadata.loc[new_metadata['end'] > 10., 'end'] = 10.\n",
    "        new_metadata.loc[:, \"filename\"] = new_metadata[\"filename\"].apply(lambda name: f'{name.split(\".\")[0]}_{k}.wav')\n",
    "        splitted_metadata.append(new_metadata)\n",
    "    new_csv.append(pd.concat(splitted_metadata, ignore_index=True))\n",
    "    #break # SACALE EL FRENO y DEJALO CORRER\n",
    "pd.concat(new_csv, ignore_index=True).to_csv(p / 'AUMILAB10s/metadata/metadata.txt', index=False, sep=\" \")\n",
    "    "
   ]
  },
  {
   "cell_type": "code",
   "execution_count": null,
   "id": "4f24965a",
   "metadata": {},
   "outputs": [],
   "source": [
    "!head '../datasets/AUMILAB10s/metadata/metadata.txt'\n",
    "\n",
    "from fusanet_utils.datasets.aumilab import AUMILAB\n",
    "\n",
    "dataset = AUMILAB('..')\n",
    "len(dataset)"
   ]
  },
  {
   "cell_type": "code",
   "execution_count": null,
   "id": "26a84c04",
   "metadata": {},
   "outputs": [],
   "source": [
    "waveform.shape"
   ]
  },
  {
   "cell_type": "code",
   "execution_count": null,
   "id": "e3809fdb",
   "metadata": {},
   "outputs": [],
   "source": [
    "\n",
    "result.shape"
   ]
  },
  {
   "cell_type": "code",
   "execution_count": null,
   "id": "ac5053ff",
   "metadata": {},
   "outputs": [],
   "source": [
    "filename, metadata = dataset[14802]\n",
    "display(filename,  metadata)\n",
    "waveform, Fs = torchaudio.load(filename)\n",
    "\n",
    "fig, ax = plt.subplots()\n",
    "ax.plot(waveform[0, :])\n",
    "Audio(waveform, rate=Fs)"
   ]
  },
  {
   "cell_type": "code",
   "execution_count": null,
   "id": "827f1faa",
   "metadata": {},
   "outputs": [],
   "source": [
    "df.loc[ df[\"filename\"].apply(lambda name: filename.stem[:-2] in name)]"
   ]
  },
  {
   "cell_type": "code",
   "execution_count": null,
   "id": "95d1e1a3",
   "metadata": {},
   "outputs": [],
   "source": []
  }
 ],
 "metadata": {
  "kernelspec": {
   "display_name": "fusa",
   "language": "python",
   "name": "fusa"
  },
  "language_info": {
   "codemirror_mode": {
    "name": "ipython",
    "version": 3
   },
   "file_extension": ".py",
   "mimetype": "text/x-python",
   "name": "python",
   "nbconvert_exporter": "python",
   "pygments_lexer": "ipython3",
   "version": "3.9.13"
  }
 },
 "nbformat": 4,
 "nbformat_minor": 5
}
