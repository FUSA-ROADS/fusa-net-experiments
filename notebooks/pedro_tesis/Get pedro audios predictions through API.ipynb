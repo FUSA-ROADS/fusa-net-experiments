{
 "cells": [
  {
   "cell_type": "code",
   "execution_count": 89,
   "id": "95c57062",
   "metadata": {},
   "outputs": [],
   "source": [
    "import requests\n",
    "from collections import Counter\n",
    "import os\n",
    "from pathlib import Path\n",
    "import json\n",
    "import pandas as pd\n",
    "import librosa"
   ]
  },
  {
   "cell_type": "code",
   "execution_count": 90,
   "id": "72cd37fa",
   "metadata": {},
   "outputs": [],
   "source": [
    "audios_path = Path('audios_pedro')\n",
    "tags_path = Path('etiquetas_pedro')"
   ]
  },
  {
   "cell_type": "code",
   "execution_count": 92,
   "id": "a2e3bbab",
   "metadata": {},
   "outputs": [
    {
     "name": "stdout",
     "output_type": "stream",
     "text": [
      "https://api.labacam.org/predictions?model=PANN-tag-5s/\n"
     ]
    }
   ],
   "source": [
    "FUSA_SERVER=\"https://api.labacam.org\"\n",
    "#FUSA_SERVER=\"http://localhost:8080\"\n",
    "API_KEY=\"zIkYk2VwBiC762O4yFSd\"\n",
    "\n",
    "ENDPOINT=\"predictions\"\n",
    "MODEL=\"PANN-tag-5s\"\n",
    "\n",
    "URI = f\"{FUSA_SERVER}/{ENDPOINT}?model={MODEL}/\"\n",
    "#URI = f\"{FUSA_SERVER}/{ENDPOINT}/{MODEL}/{VERSION}/\"\n",
    "\n",
    "print(URI)"
   ]
  },
  {
   "cell_type": "code",
   "execution_count": 4,
   "id": "c6a8ed91",
   "metadata": {},
   "outputs": [],
   "source": [
    "threshold = 0.01"
   ]
  },
  {
   "cell_type": "code",
   "execution_count": 5,
   "id": "c4ceb876",
   "metadata": {},
   "outputs": [],
   "source": [
    "def filter_predictions(categories_dict, threshold):\n",
    "    filtered_dict = {}\n",
    "    for key, values in categories_dict.items():\n",
    "        values_list = []\n",
    "        for value in values:\n",
    "            if value['probability'] > threshold:\n",
    "                values_list.append(value)\n",
    "            filtered_dict.update({key:values_list})\n",
    "    return filtered_dict\n",
    "\n",
    "def calculate_metrics(filtered_predictions, audio_duration):\n",
    "    df = pd.DataFrame([], columns  = ['event', 'duration_ratio', 'avg_acc'])\n",
    "    class_tags, duration_ratio, avg_acc = [], [], []\n",
    "    for class_tags in filtered_predictions:\n",
    "        avg_acc = 0\n",
    "        tags = filtered_predictions[class_tags]\n",
    "        c = len(tags)\n",
    "        if c > 0:\n",
    "            for tag in tags:\n",
    "                avg_acc += tag['probability']\n",
    "            duration_ratio = (c * 5) / audio_duration\n",
    "            avg_acc = avg_acc / c\n",
    "            d = {'event' : class_tags, 'duration_ratio': round(duration_ratio, 3), 'avg_acc': round(avg_acc, 3)}\n",
    "            output = pd.DataFrame([d])\n",
    "            df = pd.concat([df, output], ignore_index=True)\n",
    "    df = df.sort_values(by='duration_ratio', ascending=False).head(5)\n",
    "    return df\n",
    "\n",
    "def get_audio_duration(audio_path):\n",
    "    return librosa.get_duration(filename=audio_path)"
   ]
  },
  {
   "cell_type": "code",
   "execution_count": 115,
   "id": "c3be01d1",
   "metadata": {
    "scrolled": false
   },
   "outputs": [
    {
     "name": "stdout",
     "output_type": "stream",
     "text": [
      "1 audios_pedro/Audios Tarea ACUS155/MAURICIO ANDRES ACEVEDO AGUERO_927620_assignsubmission_file_/PaisajeSonoro5.mp3\n",
      "2 audios_pedro/Audios Tarea ACUS155/MAURICIO ANDRES ACEVEDO AGUERO_927620_assignsubmission_file_/PaisajeSonoro6.mp3\n",
      "3 audios_pedro/Audios Tarea ACUS155/MAURICIO ANDRES ACEVEDO AGUERO_927620_assignsubmission_file_/PaisajeSonoro17.mp3\n",
      "4 audios_pedro/Audios Tarea ACUS155/MAURICIO ANDRES ACEVEDO AGUERO_927620_assignsubmission_file_/PaisajeSonoro12.mp3\n",
      "5 audios_pedro/Audios Tarea ACUS155/MAURICIO ANDRES ACEVEDO AGUERO_927620_assignsubmission_file_/PaisajeSonoro8.mp3\n",
      "6 audios_pedro/Audios Tarea ACUS155/MAURICIO ANDRES ACEVEDO AGUERO_927620_assignsubmission_file_/PaisajeSonoro15.mp3\n",
      "7 audios_pedro/Audios Tarea ACUS155/MAURICIO ANDRES ACEVEDO AGUERO_927620_assignsubmission_file_/PaisajeSonoro3.mp3\n",
      "8 audios_pedro/Audios Tarea ACUS155/MAURICIO ANDRES ACEVEDO AGUERO_927620_assignsubmission_file_/PaisajeSonoro13.mp3\n",
      "9 audios_pedro/Audios Tarea ACUS155/MAURICIO ANDRES ACEVEDO AGUERO_927620_assignsubmission_file_/PaisajeSonoro18.mp3\n",
      "10 audios_pedro/Audios Tarea ACUS155/MAURICIO ANDRES ACEVEDO AGUERO_927620_assignsubmission_file_/PaisajeSonoro4.mp3\n",
      "11 audios_pedro/Audios Tarea ACUS155/MAURICIO ANDRES ACEVEDO AGUERO_927620_assignsubmission_file_/PaisajeSonoro16.mp3\n",
      "12 audios_pedro/Audios Tarea ACUS155/MAURICIO ANDRES ACEVEDO AGUERO_927620_assignsubmission_file_/PaisajeSonoro7.mp3\n",
      "Archivo generado: audios_pedro_12.xlsx\n",
      "13 audios_pedro/Audios Tarea ACUS155/MATÍAS ALEJANDRO MANCILLA MALDONADO_927622_assignsubmission_file_/paisaje.sonoro.5.ACUS15522.mancilla.mp3\n",
      "14 audios_pedro/Audios Tarea ACUS155/MATÍAS ALEJANDRO MANCILLA MALDONADO_927622_assignsubmission_file_/paisaje.sonoro.4.ACUS15522.mancilla.mp3\n",
      "15 audios_pedro/Audios Tarea ACUS155/MATÍAS ALEJANDRO MANCILLA MALDONADO_927622_assignsubmission_file_/paisaje.sonoro.10.ACUS15522.mancilla.mp3\n",
      "16 audios_pedro/Audios Tarea ACUS155/MATÍAS ALEJANDRO MANCILLA MALDONADO_927622_assignsubmission_file_/paisaje.sonoro1.mancilla.mp3\n",
      "17 audios_pedro/Audios Tarea ACUS155/MATÍAS ALEJANDRO MANCILLA MALDONADO_927622_assignsubmission_file_/paisaje.sonoro.6.ACUS15522.mancilla.mp3\n",
      "18 audios_pedro/Audios Tarea ACUS155/MATÍAS ALEJANDRO MANCILLA MALDONADO_927622_assignsubmission_file_/paisaje.sonoro.7.ACUS15522.mancilla.mp3\n",
      "19 audios_pedro/Audios Tarea ACUS155/MATÍAS ALEJANDRO MANCILLA MALDONADO_927622_assignsubmission_file_/paisaje.sonoro.2.ACUS15522.mancilla.mp3\n",
      "20 audios_pedro/Audios Tarea ACUS155/MATÍAS ALEJANDRO MANCILLA MALDONADO_927622_assignsubmission_file_/paisaje.sonoro.8.ACUS15522.mancilla.mp3\n",
      "21 audios_pedro/Audios Tarea ACUS155/MATÍAS ALEJANDRO MANCILLA MALDONADO_927622_assignsubmission_file_/paisaje.sonoro.12.ACUS15522.mancilla.mp3\n",
      "22 audios_pedro/Audios Tarea ACUS155/MATÍAS ALEJANDRO MANCILLA MALDONADO_927622_assignsubmission_file_/paisaje.sonoro.11.ACUS15522.mancilla.mp3\n",
      "23 audios_pedro/Audios Tarea ACUS155/MATÍAS ALEJANDRO MANCILLA MALDONADO_927622_assignsubmission_file_/paisaje.sonoro.9.ACUS15522.mancilla.mp3\n",
      "24 audios_pedro/Audios Tarea ACUS155/MATÍAS ALEJANDRO MANCILLA MALDONADO_927622_assignsubmission_file_/paisaje.sonoro.3ACUS15522.mancilla.mp3\n",
      "Archivo generado: audios_pedro_24.xlsx\n"
     ]
    }
   ],
   "source": [
    "c = 0\n",
    "for root, dirs, files in os.walk(audios_path):\n",
    "    if len(files) > 0:\n",
    "        df = pd.DataFrame([], columns=['filename','event','duration_ratio','avg_acc'])\n",
    "        for filename in files:\n",
    "            c += 1\n",
    "            audio_name = os.path.join(root, filename)\n",
    "            print(c, audio_name)\n",
    "            response = !curl -s -X POST {URI} -H  \"accept: application/json\" -H  \"X-Api-Key:{API_KEY}\" -H  \"Content-Type: multipart/form-data\" -F \"file=@{audio_name};type=audio/wav\"\n",
    "            try:\n",
    "                categories_dict = json.loads(response[0])['categories']\n",
    "                filtered_predictions = filter_predictions(categories_dict, threshold)\n",
    "                audio_duration = get_audio_duration(audio_name)\n",
    "                classes_metrics = calculate_metrics(filtered_predictions, audio_duration)\n",
    "                audio_path = Path(audio_name)\n",
    "                classes_metrics['filename'] = str(Path(*audio_path.parts[1:]))\n",
    "                df = pd.concat([df, classes_metrics])\n",
    "            except Exception as e:\n",
    "                print(e, audio_name)\n",
    "                #print(response)\n",
    "        final_df = df.set_index(['filename', 'event'])\n",
    "        try:\n",
    "            with pd.ExcelWriter(f'audios_pedro_{c}.xlsx') as writer:\n",
    "                final_df.to_excel(writer)\n",
    "            print(f'Archivo generado: audios_pedro_{c}.xlsx')\n",
    "        except Exception as e:\n",
    "            print(\"No se pudo generar el archivo excel\")\n",
    "            print(e)\n",
    "            pass"
   ]
  },
  {
   "cell_type": "code",
   "execution_count": 26,
   "id": "a336067b",
   "metadata": {},
   "outputs": [],
   "source": [
    "for audio in wrong_audios:\n",
    "    os.remove(audio)"
   ]
  },
  {
   "cell_type": "code",
   "execution_count": null,
   "id": "fcef3392",
   "metadata": {},
   "outputs": [],
   "source": [
    "#Total 3.360"
   ]
  },
  {
   "cell_type": "code",
   "execution_count": null,
   "id": "c8ddbae2",
   "metadata": {},
   "outputs": [],
   "source": [
    "final_df"
   ]
  },
  {
   "cell_type": "code",
   "execution_count": null,
   "id": "5866ad77",
   "metadata": {},
   "outputs": [],
   "source": [
    "final_df = df.set_index(['filename', 'event'])"
   ]
  },
  {
   "cell_type": "code",
   "execution_count": null,
   "id": "8d47c0be",
   "metadata": {},
   "outputs": [],
   "source": [
    "with pd.ExcelWriter('audios_pedro.xlsx') as writer:\n",
    "    final_df.to_excel(writer)"
   ]
  }
 ],
 "metadata": {
  "kernelspec": {
   "display_name": "fusa",
   "language": "python",
   "name": "fusa"
  },
  "language_info": {
   "codemirror_mode": {
    "name": "ipython",
    "version": 3
   },
   "file_extension": ".py",
   "mimetype": "text/x-python",
   "name": "python",
   "nbconvert_exporter": "python",
   "pygments_lexer": "ipython3",
   "version": "3.9.13"
  }
 },
 "nbformat": 4,
 "nbformat_minor": 5
}
