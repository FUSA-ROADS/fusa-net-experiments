{
 "cells": [
  {
   "cell_type": "markdown",
   "metadata": {},
   "source": [
    "# PSDS evaluation for DCASE 2020 Task 4\n",
    "\n",
    "\n",
    "This notebook shows how the Polyphonic Sound Detection Score (PSDS) [[1]](#References) evaluation can be used to extract performance insights for a Sound Event Detection (SED) system. It also uncovers and explains the key features of the novel evaluation framework employing a real system and a real dataset.  \n",
    "The system used throughout this notebook is the official baseline model of DCASE 2020 Challenge [Task 4](http://dcase.community/challenge2020/task-sound-event-detection-and-separation-in-domestic-environments). \n",
    "\n",
    ">The PSDS is a metric for evaluating SED systems. Differently from other widely adopted metrics, PSDS:\n",
    ">- Introduces a new, flexible and robust definition of event detection that yields an evaluation closer to the end-user perception of sound events\n",
    ">- Discriminates cross-triggers from generic false positives and supports their custom weighting to cope with imbalanced datasets and to help developers to identify the system weaknesses\n",
    ">- Evaluates the SED system performance using multiple operating points to truly measure the quality of the sound event modelling without the system calibration bias\n",
    "\n",
    "The baseline system performance against the validation dataset can be extracted by following the instructions presented [in this GitHub page](https://github.com/turpaultn/dcase20_task4/tree/public_branch/baseline). However, in order to keep the notebook tidy, the data necessary to compute PSDS evaluation has been pre-extracted and cached:\n",
    "- `./cache/validation_groundtruth.tsv` the official tab-separated-value file. An excerpt:\n",
    "  ```\n",
    "  filename\tonset\toffset\tevent_label\n",
    "Y00pbt6aJV8Y_350.000_360.000.wav\t0.000\t9.971\tVacuum_cleaner\n",
    "Y00pK0GMmE9s_70.000_80.000.wav\t0.000\t10.000\tVacuum_cleaner\n",
    "Y02sD1KJeoGA_50.000_60.000.wav\t0.000\t10.000\tFrying\n",
    "Y0bjUq9XMMmQ_30.000_40.000.wav\t0.000\t10.000\tFrying\n",
    "  ```\n",
    "- `./cache/validation_metadata.tsv` the tab-separated-value file computed when running [TestModel.py](https://github.com/turpaultn/dcase20_task4/tree/public_branch/baseline#sed-only)\n",
    "   ```\n",
    "  filename\tduration\n",
    "Y0MV5mb0RJLY_120.000_130.000.wav\t10.0\n",
    "YAagLJkfrFMk_60.000_70.000.wav\t10.0\n",
    "YU7WkuGO-lps_20.000_30.000.wav\t10.0\n",
    "   ```\n",
    "- `./cache/validation_predictions/*.tsv` the set of baseline event detections created by TestModel.py when the output threshold is varied linearly from 0.01 to 0.99. This file looks like the `validation_groundtruth.tsv` but contains the system detections.\n",
    "\n",
    "For more info about PSDS, installation and the getting started guide please refer to the [PSDS official GitHub repo](https://github.com/audioanalytic/psds_eval).\n",
    "\n",
    "Finally, if you are using PSDS in your work, please cite this [paper](#References).\n",
    "\n",
    "**Table of contents**\n",
    "- [Your first PSDS evaluation](#Your-first-PSDS-evaluation)\n",
    "- [System stability and cross-trigger mistakes](#System-stability-and-cross-trigger-mistakes)\n",
    "- [PSDS vs threshold sweep](#PSDS-vs-threshold-sweep)\n",
    "- [A flexible and robust evaluation framework](#A-flexible-and-robust-evaluation-framework)\n",
    "- [References](#References)\n",
    "---"
   ]
  },
  {
   "cell_type": "markdown",
   "metadata": {},
   "source": [
    "## Your first PSDS evaluation\n",
    "Let's start by importing the necessary packages used throughout the entire notebook."
   ]
  },
  {
   "cell_type": "code",
   "execution_count": 1,
   "metadata": {},
   "outputs": [],
   "source": [
    "import glob\n",
    "import os.path as osp\n",
    "import pandas as pd\n",
    "import numpy as np\n",
    "%matplotlib inline\n",
    "import matplotlib.pyplot as plt\n",
    "from matplotlib.patches import Rectangle, Patch\n",
    "from psds_eval import PSDSEval, plot_psd_roc, plot_per_class_psd_roc\n",
    "from sklearn import metrics"
   ]
  },
  {
   "cell_type": "markdown",
   "metadata": {},
   "source": [
    "The cached validation dataset *ground truth* and *metadata* are loaded here. The metadata file contains the duration, expressed in seconds, of each file in the dataset."
   ]
  },
  {
   "cell_type": "code",
   "execution_count": 2,
   "metadata": {},
   "outputs": [
    {
     "name": "stdout",
     "output_type": "stream",
     "text": [
      "all_predictions.csv  \u001b[34mlinear\u001b[m\u001b[m/              test_audios.txt\r\n",
      "all_targets.csv      \u001b[34mlog\u001b[m\u001b[m/\r\n"
     ]
    }
   ],
   "source": [
    "ls evaluation_test"
   ]
  },
  {
   "cell_type": "code",
   "execution_count": 3,
   "metadata": {},
   "outputs": [],
   "source": [
    "groundtruth = pd.read_csv(\"evaluation_test/all_targets.csv\", sep=\" \",names=[\"filename\",\"onset\",\"offset\",\"event_label\"])\n",
    "metadata = pd.read_csv(\"evaluation_test/test_audios.txt\", sep=\" \",names=[\"filename\",\"duration\"])\n",
    "amb = None"
   ]
  },
  {
   "cell_type": "code",
   "execution_count": 4,
   "metadata": {},
   "outputs": [],
   "source": [
    "#ambients = ['waterfront','park','square','market','street']\n",
    "#amb = ambients[0]\n",
    "#groundtruth = groundtruth[[amb in gr for gr in groundtruth.filename]]\n",
    "#metadata = metadata[[amb in meta for meta in metadata.filename]]"
   ]
  },
  {
   "cell_type": "code",
   "execution_count": 5,
   "metadata": {
    "scrolled": true
   },
   "outputs": [
    {
     "data": {
      "text/html": [
       "<div>\n",
       "<style scoped>\n",
       "    .dataframe tbody tr th:only-of-type {\n",
       "        vertical-align: middle;\n",
       "    }\n",
       "\n",
       "    .dataframe tbody tr th {\n",
       "        vertical-align: top;\n",
       "    }\n",
       "\n",
       "    .dataframe thead th {\n",
       "        text-align: right;\n",
       "    }\n",
       "</style>\n",
       "<table border=\"1\" class=\"dataframe\">\n",
       "  <thead>\n",
       "    <tr style=\"text-align: right;\">\n",
       "      <th></th>\n",
       "      <th>filename</th>\n",
       "      <th>onset</th>\n",
       "      <th>offset</th>\n",
       "      <th>event_label</th>\n",
       "    </tr>\n",
       "  </thead>\n",
       "  <tbody>\n",
       "    <tr>\n",
       "      <th>0</th>\n",
       "      <td>waterfront00001.wav</td>\n",
       "      <td>2.2</td>\n",
       "      <td>5.3</td>\n",
       "      <td>bird</td>\n",
       "    </tr>\n",
       "    <tr>\n",
       "      <th>1</th>\n",
       "      <td>waterfront00001.wav</td>\n",
       "      <td>3.1</td>\n",
       "      <td>8.6</td>\n",
       "      <td>bus_moving</td>\n",
       "    </tr>\n",
       "    <tr>\n",
       "      <th>2</th>\n",
       "      <td>waterfront00001.wav</td>\n",
       "      <td>3.0</td>\n",
       "      <td>9.0</td>\n",
       "      <td>car_idling</td>\n",
       "    </tr>\n",
       "    <tr>\n",
       "      <th>3</th>\n",
       "      <td>waterfront00001.wav</td>\n",
       "      <td>0.7</td>\n",
       "      <td>1.8</td>\n",
       "      <td>crowd</td>\n",
       "    </tr>\n",
       "    <tr>\n",
       "      <th>4</th>\n",
       "      <td>waterfront00001.wav</td>\n",
       "      <td>3.8</td>\n",
       "      <td>7.6</td>\n",
       "      <td>dog</td>\n",
       "    </tr>\n",
       "    <tr>\n",
       "      <th>...</th>\n",
       "      <td>...</td>\n",
       "      <td>...</td>\n",
       "      <td>...</td>\n",
       "      <td>...</td>\n",
       "    </tr>\n",
       "    <tr>\n",
       "      <th>286</th>\n",
       "      <td>park00002.wav</td>\n",
       "      <td>2.6</td>\n",
       "      <td>6.9</td>\n",
       "      <td>motorcycle_idling</td>\n",
       "    </tr>\n",
       "    <tr>\n",
       "      <th>287</th>\n",
       "      <td>park00002.wav</td>\n",
       "      <td>1.0</td>\n",
       "      <td>7.9</td>\n",
       "      <td>music</td>\n",
       "    </tr>\n",
       "    <tr>\n",
       "      <th>288</th>\n",
       "      <td>park00002.wav</td>\n",
       "      <td>5.8</td>\n",
       "      <td>6.9</td>\n",
       "      <td>shouting</td>\n",
       "    </tr>\n",
       "    <tr>\n",
       "      <th>289</th>\n",
       "      <td>park00002.wav</td>\n",
       "      <td>3.6</td>\n",
       "      <td>9.6</td>\n",
       "      <td>steps</td>\n",
       "    </tr>\n",
       "    <tr>\n",
       "      <th>290</th>\n",
       "      <td>park00002.wav</td>\n",
       "      <td>0.2</td>\n",
       "      <td>5.2</td>\n",
       "      <td>wind</td>\n",
       "    </tr>\n",
       "  </tbody>\n",
       "</table>\n",
       "<p>291 rows × 4 columns</p>\n",
       "</div>"
      ],
      "text/plain": [
       "                filename  onset  offset        event_label\n",
       "0    waterfront00001.wav    2.2     5.3               bird\n",
       "1    waterfront00001.wav    3.1     8.6         bus_moving\n",
       "2    waterfront00001.wav    3.0     9.0         car_idling\n",
       "3    waterfront00001.wav    0.7     1.8              crowd\n",
       "4    waterfront00001.wav    3.8     7.6                dog\n",
       "..                   ...    ...     ...                ...\n",
       "286        park00002.wav    2.6     6.9  motorcycle_idling\n",
       "287        park00002.wav    1.0     7.9              music\n",
       "288        park00002.wav    5.8     6.9           shouting\n",
       "289        park00002.wav    3.6     9.6              steps\n",
       "290        park00002.wav    0.2     5.2               wind\n",
       "\n",
       "[291 rows x 4 columns]"
      ]
     },
     "execution_count": 5,
     "metadata": {},
     "output_type": "execute_result"
    }
   ],
   "source": [
    "groundtruth"
   ]
  },
  {
   "cell_type": "code",
   "execution_count": 6,
   "metadata": {},
   "outputs": [
    {
     "data": {
      "text/html": [
       "<div>\n",
       "<style scoped>\n",
       "    .dataframe tbody tr th:only-of-type {\n",
       "        vertical-align: middle;\n",
       "    }\n",
       "\n",
       "    .dataframe tbody tr th {\n",
       "        vertical-align: top;\n",
       "    }\n",
       "\n",
       "    .dataframe thead th {\n",
       "        text-align: right;\n",
       "    }\n",
       "</style>\n",
       "<table border=\"1\" class=\"dataframe\">\n",
       "  <thead>\n",
       "    <tr style=\"text-align: right;\">\n",
       "      <th></th>\n",
       "      <th>filename</th>\n",
       "      <th>duration</th>\n",
       "    </tr>\n",
       "  </thead>\n",
       "  <tbody>\n",
       "    <tr>\n",
       "      <th>0</th>\n",
       "      <td>market00001.wav</td>\n",
       "      <td>10.0</td>\n",
       "    </tr>\n",
       "    <tr>\n",
       "      <th>1</th>\n",
       "      <td>market00002.wav</td>\n",
       "      <td>10.0</td>\n",
       "    </tr>\n",
       "    <tr>\n",
       "      <th>2</th>\n",
       "      <td>market00003.wav</td>\n",
       "      <td>10.0</td>\n",
       "    </tr>\n",
       "    <tr>\n",
       "      <th>3</th>\n",
       "      <td>market00004.wav</td>\n",
       "      <td>10.0</td>\n",
       "    </tr>\n",
       "    <tr>\n",
       "      <th>4</th>\n",
       "      <td>market00005.wav</td>\n",
       "      <td>10.0</td>\n",
       "    </tr>\n",
       "    <tr>\n",
       "      <th>5</th>\n",
       "      <td>park00001.wav</td>\n",
       "      <td>10.0</td>\n",
       "    </tr>\n",
       "    <tr>\n",
       "      <th>6</th>\n",
       "      <td>park00002.wav</td>\n",
       "      <td>10.0</td>\n",
       "    </tr>\n",
       "    <tr>\n",
       "      <th>7</th>\n",
       "      <td>park00003.wav</td>\n",
       "      <td>10.0</td>\n",
       "    </tr>\n",
       "    <tr>\n",
       "      <th>8</th>\n",
       "      <td>park00004.wav</td>\n",
       "      <td>10.0</td>\n",
       "    </tr>\n",
       "    <tr>\n",
       "      <th>9</th>\n",
       "      <td>park00005.wav</td>\n",
       "      <td>10.0</td>\n",
       "    </tr>\n",
       "    <tr>\n",
       "      <th>10</th>\n",
       "      <td>square00001.wav</td>\n",
       "      <td>10.0</td>\n",
       "    </tr>\n",
       "    <tr>\n",
       "      <th>11</th>\n",
       "      <td>square00002.wav</td>\n",
       "      <td>10.0</td>\n",
       "    </tr>\n",
       "    <tr>\n",
       "      <th>12</th>\n",
       "      <td>square00003.wav</td>\n",
       "      <td>10.0</td>\n",
       "    </tr>\n",
       "    <tr>\n",
       "      <th>13</th>\n",
       "      <td>square00004.wav</td>\n",
       "      <td>10.0</td>\n",
       "    </tr>\n",
       "    <tr>\n",
       "      <th>14</th>\n",
       "      <td>square00005.wav</td>\n",
       "      <td>10.0</td>\n",
       "    </tr>\n",
       "    <tr>\n",
       "      <th>15</th>\n",
       "      <td>street00001.wav</td>\n",
       "      <td>10.0</td>\n",
       "    </tr>\n",
       "    <tr>\n",
       "      <th>16</th>\n",
       "      <td>street00002.wav</td>\n",
       "      <td>10.0</td>\n",
       "    </tr>\n",
       "    <tr>\n",
       "      <th>17</th>\n",
       "      <td>street00003.wav</td>\n",
       "      <td>10.0</td>\n",
       "    </tr>\n",
       "    <tr>\n",
       "      <th>18</th>\n",
       "      <td>street00004.wav</td>\n",
       "      <td>10.0</td>\n",
       "    </tr>\n",
       "    <tr>\n",
       "      <th>19</th>\n",
       "      <td>street00005.wav</td>\n",
       "      <td>10.0</td>\n",
       "    </tr>\n",
       "    <tr>\n",
       "      <th>20</th>\n",
       "      <td>waterfront00001.wav</td>\n",
       "      <td>10.0</td>\n",
       "    </tr>\n",
       "    <tr>\n",
       "      <th>21</th>\n",
       "      <td>waterfront00002.wav</td>\n",
       "      <td>10.0</td>\n",
       "    </tr>\n",
       "    <tr>\n",
       "      <th>22</th>\n",
       "      <td>waterfront00003.wav</td>\n",
       "      <td>10.0</td>\n",
       "    </tr>\n",
       "    <tr>\n",
       "      <th>23</th>\n",
       "      <td>waterfront00004.wav</td>\n",
       "      <td>10.0</td>\n",
       "    </tr>\n",
       "    <tr>\n",
       "      <th>24</th>\n",
       "      <td>waterfront00005.wav</td>\n",
       "      <td>10.0</td>\n",
       "    </tr>\n",
       "  </tbody>\n",
       "</table>\n",
       "</div>"
      ],
      "text/plain": [
       "               filename  duration\n",
       "0       market00001.wav      10.0\n",
       "1       market00002.wav      10.0\n",
       "2       market00003.wav      10.0\n",
       "3       market00004.wav      10.0\n",
       "4       market00005.wav      10.0\n",
       "5         park00001.wav      10.0\n",
       "6         park00002.wav      10.0\n",
       "7         park00003.wav      10.0\n",
       "8         park00004.wav      10.0\n",
       "9         park00005.wav      10.0\n",
       "10      square00001.wav      10.0\n",
       "11      square00002.wav      10.0\n",
       "12      square00003.wav      10.0\n",
       "13      square00004.wav      10.0\n",
       "14      square00005.wav      10.0\n",
       "15      street00001.wav      10.0\n",
       "16      street00002.wav      10.0\n",
       "17      street00003.wav      10.0\n",
       "18      street00004.wav      10.0\n",
       "19      street00005.wav      10.0\n",
       "20  waterfront00001.wav      10.0\n",
       "21  waterfront00002.wav      10.0\n",
       "22  waterfront00003.wav      10.0\n",
       "23  waterfront00004.wav      10.0\n",
       "24  waterfront00005.wav      10.0"
      ]
     },
     "execution_count": 6,
     "metadata": {},
     "output_type": "execute_result"
    }
   ],
   "source": [
    "metadata"
   ]
  },
  {
   "cell_type": "markdown",
   "metadata": {},
   "source": [
    "`PSDSEval` can be instantiated easily by passing the two tables previously created.\n",
    ">Notice that a number of evaluation parameters are set to their default values. Later sections of this notebook will present these parameters in more detail."
   ]
  },
  {
   "cell_type": "code",
   "execution_count": 7,
   "metadata": {},
   "outputs": [],
   "source": [
    "psds_eval = PSDSEval(ground_truth=groundtruth, metadata=metadata)"
   ]
  },
  {
   "cell_type": "markdown",
   "metadata": {},
   "source": [
    "The cached set of detections from the system at different output thershold values `./cache/validation_predictions/{0.010,0.030,...,0.990}.tsv` are now read and passed to `psds_eval`:"
   ]
  },
  {
   "cell_type": "code",
   "execution_count": 8,
   "metadata": {},
   "outputs": [
    {
     "name": "stdout",
     "output_type": "stream",
     "text": [
      "0_0.txt   0_15.txt  0_3.txt   0_45.txt  0_6.txt   0_75.txt  0_9.txt\r\n",
      "0_05.txt  0_2.txt   0_35.txt  0_5.txt   0_65.txt  0_8.txt   0_95.txt\r\n",
      "0_1.txt   0_25.txt  0_4.txt   0_55.txt  0_7.txt   0_85.txt\r\n"
     ]
    }
   ],
   "source": [
    "ls evaluation_test/linear"
   ]
  },
  {
   "cell_type": "code",
   "execution_count": 9,
   "metadata": {},
   "outputs": [
    {
     "name": "stdout",
     "output_type": "stream",
     "text": [
      "Adding Operating Point 20\r"
     ]
    }
   ],
   "source": [
    "# in case this cell is executed many times, let's clean the PSDSEval\n",
    "psds_eval.clear_all_operating_points()\n",
    "\n",
    "for i, tsv in enumerate(glob.glob(osp.join(\"./evaluation_test/linear/*.txt\"))):\n",
    "    print(f\"Adding Operating Point {i+1:02d}\", end=\"\\r\")\n",
    "    threshold = float(osp.splitext(osp.basename(tsv))[0].replace('_', '.'))\n",
    "    det = pd.read_csv(tsv, sep=\" \",names=[\"filename\", \"onset\",\"offset\", \"event_label\"])\n",
    "    if amb is not None:\n",
    "        det = det[[amb in gr for gr in det.filename]]\n",
    "    info = {\"name\": f\"Op {i+1:02d}\", \"threshold\": threshold}\n",
    "    #print(tsv,psds_eval.class_names)\n",
    "    psds_eval.add_operating_point(det, info=info)"
   ]
  },
  {
   "cell_type": "code",
   "execution_count": 10,
   "metadata": {},
   "outputs": [
    {
     "data": {
      "image/png": "[encoded data removed]",
      "text/plain": [
       "<Figure size 504x504 with 1 Axes>"
      ]
     },
     "metadata": {
      "needs_background": "light"
     },
     "output_type": "display_data"
    }
   ],
   "source": [
    "# compute the PSDS of the system represented by its operating points\n",
    "psds = psds_eval.psds(max_efpr=100)\n",
    "# plot the PSD-ROC and corresponding PSD-Score\n",
    "plot_psd_roc(psds)"
   ]
  },
  {
   "cell_type": "code",
   "execution_count": 11,
   "metadata": {},
   "outputs": [
    {
     "data": {
      "text/plain": [
       "(31,\n",
       " ['Vwater',\n",
       "  'air_conditioner',\n",
       "  'airborne',\n",
       "  'alarm',\n",
       "  'bells',\n",
       "  'bird',\n",
       "  'braking',\n",
       "  'bus_idling',\n",
       "  'bus_moving',\n",
       "  'car_idling',\n",
       "  'car_moving',\n",
       "  'crowd',\n",
       "  'cutting',\n",
       "  'dog',\n",
       "  'drilling',\n",
       "  'horn',\n",
       "  'injected_psds_world_label',\n",
       "  'motorcycle_idling',\n",
       "  'motorcycle_moving',\n",
       "  'music',\n",
       "  'rain',\n",
       "  'river',\n",
       "  'shouting',\n",
       "  'siren',\n",
       "  'steps',\n",
       "  'talk',\n",
       "  'truck_idling',\n",
       "  'truck_moving',\n",
       "  'water',\n",
       "  'waves',\n",
       "  'wind'])"
      ]
     },
     "execution_count": 11,
     "metadata": {},
     "output_type": "execute_result"
    }
   ],
   "source": [
    "len(psds_eval.class_names), psds_eval.class_names"
   ]
  },
  {
   "cell_type": "markdown",
   "metadata": {},
   "source": [
    "Done! The graph above shows the PSD-ROC of the system and its **PSD-Score is 0.60744** which is the area under the curve computed up to the given `max_efpr` value.  \n",
    "The x and y axis of a PSD-ROC plot are the *effective False Positive Rate* (eFPR) and the *effective True Positive Ratio* (eTPR) which are defined below (please find more detail in [[1]](#References)):. "
   ]
  },
  {
   "cell_type": "markdown",
   "metadata": {},
   "source": [
    "<a id=\"efpr-etpr-definition\"></a>\n",
    "**effective False Positive Rate**\n",
    "\n",
    "> eFPR combines false positive (FP) and cross-trigger (CT) rates through the parameter `alpha_ct`: $$\\text{eFPR} = \\{ x\\,|\\, x = \\text{FPR}_c + \\alpha_{\\text{CT}} \\cdot \\text{mean}(\\text{CTR}_c) \\, , \\forall c \\in C\\}, \\quad \\text{where}\\, C \\,\\text{is the set of sound classes}$$\n",
    "\n",
    "**effective True Positive Ratio**\n",
    "\n",
    "> eTPR is defined using both the mean and the standard deviation of true positive (TP) ratios across classes. The importance of inter-class variability is controlled throught the parameter `alpha_st`: $$\\text{eTPR} = \\mu_{\\text{TPR}_c} - \\alpha_{\\text{ST}} \\cdot \\sigma_{\\text{TPR}_c}$$"
   ]
  },
  {
   "cell_type": "markdown",
   "metadata": {},
   "source": [
    "### Intersection-based F-score\n",
    "`PSDSEval` can also compute class-dependent F-score and macro F-score. The latter is defined as the average of the former.  \n",
    "This is particularly useful if you want to compute a well-known metric, but based on the novel and robust *intersection logic* (explained in more detail [below](#A-flexible-and-robust-evaluation-framework)) introduced by PSDS evaluation."
   ]
  },
  {
   "cell_type": "code",
   "execution_count": 12,
   "metadata": {},
   "outputs": [
    {
     "name": "stdout",
     "output_type": "stream",
     "text": [
      "macro F-score: 71.40\n",
      "  Vwater: 25.00\n",
      "  air_conditioner: 33.33\n",
      "  airborne: 25.00\n",
      "  alarm: 80.00\n",
      "  bells: 92.31\n",
      "  bird: 89.47\n",
      "  braking: 100.00\n",
      "  bus_idling: 93.33\n",
      "  bus_moving: 83.33\n",
      "  car_idling: 78.79\n",
      "  car_moving: 95.00\n",
      "  crowd: 69.57\n",
      "  cutting: 25.00\n",
      "  dog: 87.50\n",
      "  drilling: nan\n",
      "  horn: 66.67\n",
      "  motorcycle_idling: 51.85\n",
      "  motorcycle_moving: 81.25\n",
      "  music: 68.75\n",
      "  rain: 82.35\n",
      "  river: 80.00\n",
      "  shouting: 66.67\n",
      "  siren: 80.00\n",
      "  steps: 58.33\n",
      "  talk: 70.37\n",
      "  truck_idling: 88.89\n",
      "  truck_moving: 70.59\n",
      "  water: 100.00\n",
      "  waves: 100.00\n",
      "  wind: 27.27\n"
     ]
    },
    {
     "name": "stderr",
     "output_type": "stream",
     "text": [
      "/Users/diego/opt/miniconda3/envs/fusa-training/lib/python3.8/site-packages/psds_eval/psds.py:755: RuntimeWarning: invalid value encountered in true_divide\n",
      "  num_gts = per_class_tp / tp_ratios\n"
     ]
    }
   ],
   "source": [
    "det = pd.read_csv(\"evaluation_test/all_predictions.csv\", sep=\" \",names=[\"event_label\",\"onset\",\"offset\",\"filename\"])\n",
    "if amb is not None:\n",
    "    det = det[[amb in gr for gr in det.filename]]\n",
    "macro_f, class_f = psds_eval.compute_macro_f_score(det)\n",
    "print(f\"macro F-score: {macro_f*100:.2f}\")\n",
    "for clsname, f in class_f.items():\n",
    "    print(f\"  {clsname}: {f*100:.2f}\")"
   ]
  },
  {
   "cell_type": "markdown",
   "metadata": {},
   "source": [
    "## System stability and cross-trigger mistakes\n",
    "\n",
    "This section digs into the information summarised in the PSD-ROC plot seen above by visualising the per-class PSD-ROC curves. Furthermore, the cross-trigger importance parameter `alpha_ct` and the stability parameters `alpha_st` are varied to show how they affect the curves.  \n",
    "This type of analysis gives a deeper level of insight into how the model behaves when putting more emphasis on cross-trigger mistakes or inter-class variability."
   ]
  },
  {
   "cell_type": "code",
   "execution_count": 13,
   "metadata": {},
   "outputs": [
    {
     "data": {
      "text/html": [
       "<div>\n",
       "<style scoped>\n",
       "    .dataframe tbody tr th:only-of-type {\n",
       "        vertical-align: middle;\n",
       "    }\n",
       "\n",
       "    .dataframe tbody tr th {\n",
       "        vertical-align: top;\n",
       "    }\n",
       "\n",
       "    .dataframe thead th {\n",
       "        text-align: right;\n",
       "    }\n",
       "</style>\n",
       "<table border=\"1\" class=\"dataframe\">\n",
       "  <thead>\n",
       "    <tr style=\"text-align: right;\">\n",
       "      <th></th>\n",
       "      <th>id</th>\n",
       "      <th>counts</th>\n",
       "      <th>tpr</th>\n",
       "      <th>fpr</th>\n",
       "      <th>ctr</th>\n",
       "      <th>name</th>\n",
       "      <th>threshold</th>\n",
       "    </tr>\n",
       "  </thead>\n",
       "  <tbody>\n",
       "    <tr>\n",
       "      <th>0</th>\n",
       "      <td>efe101bd43da25b8655d4992bad13e2520e4e012f8134a...</td>\n",
       "      <td>[[0.0, 0.0, 0.0, 0.0, 0.0, 4.0, 0.0, 2.0, 1.0,...</td>\n",
       "      <td>[0.0, 0.5, 0.3333333333333333, 0.5, 0.66666666...</td>\n",
       "      <td>[72.0, 14.4, 14.4, 0.0, 0.0, 0.0, 0.0, 0.0, 0....</td>\n",
       "      <td>[[nan, 0.0, 0.0, 0.0, 0.0, 135.72101790763432,...</td>\n",
       "      <td>Op 01</td>\n",
       "      <td>0.85</td>\n",
       "    </tr>\n",
       "    <tr>\n",
       "      <th>1</th>\n",
       "      <td>1017ee7bf9f5ff0cd3fec9b9e0ca9e75f5614ef3b20411...</td>\n",
       "      <td>[[1.0, 0.0, 0.0, 0.0, 0.0, 4.0, 0.0, 1.0, 1.0,...</td>\n",
       "      <td>[1.0, 0.5, 0.3333333333333333, 1.0, 1.0, 0.85,...</td>\n",
       "      <td>[86.4, 43.2, 43.2, 14.4, 14.4, 28.8, 0.0, 28.8...</td>\n",
       "      <td>[[nan, 0.0, 0.0, 0.0, 0.0, 135.72101790763432,...</td>\n",
       "      <td>Op 02</td>\n",
       "      <td>0.45</td>\n",
       "    </tr>\n",
       "    <tr>\n",
       "      <th>2</th>\n",
       "      <td>4f99187ec483fc256582713754e5f08c6c9167f2a56502...</td>\n",
       "      <td>[[1.0, 0.0, 0.0, 0.0, 0.0, 4.0, 0.0, 1.0, 1.0,...</td>\n",
       "      <td>[1.0, 0.5, 0.3333333333333333, 1.0, 1.0, 0.85,...</td>\n",
       "      <td>[86.4, 28.8, 57.6, 14.4, 14.4, 14.4, 0.0, 28.8...</td>\n",
       "      <td>[[nan, 0.0, 0.0, 0.0, 0.0, 135.72101790763432,...</td>\n",
       "      <td>Op 03</td>\n",
       "      <td>0.55</td>\n",
       "    </tr>\n",
       "    <tr>\n",
       "      <th>3</th>\n",
       "      <td>4e8a0dd0356bbb35fcf801219e6e61a4690fa080952602...</td>\n",
       "      <td>[[0.0, 0.0, 0.0, 0.0, 0.0, 2.0, 0.0, 1.0, 0.0,...</td>\n",
       "      <td>[0.0, 0.5, 0.3333333333333333, 0.5, 0.66666666...</td>\n",
       "      <td>[28.8, 0.0, 0.0, 0.0, 0.0, 0.0, 0.0, 0.0, 0.0,...</td>\n",
       "      <td>[[nan, 0.0, 0.0, 0.0, 0.0, 67.86050895381716, ...</td>\n",
       "      <td>Op 04</td>\n",
       "      <td>0.95</td>\n",
       "    </tr>\n",
       "    <tr>\n",
       "      <th>4</th>\n",
       "      <td>c88cadf03c25a217891061a360a290593ef9aac26daf16...</td>\n",
       "      <td>[[1.0, 0.0, 0.0, 0.0, 0.0, 3.0, 0.0, 1.0, 1.0,...</td>\n",
       "      <td>[1.0, 0.5, 0.3333333333333333, 1.0, 1.0, 0.85,...</td>\n",
       "      <td>[72.0, 100.8, 100.8, 28.8, 14.4, 28.8, 0.0, 43...</td>\n",
       "      <td>[[nan, 0.0, 0.0, 0.0, 0.0, 101.79076343072573,...</td>\n",
       "      <td>Op 05</td>\n",
       "      <td>0.25</td>\n",
       "    </tr>\n",
       "    <tr>\n",
       "      <th>5</th>\n",
       "      <td>16401861685ca2735d1f53e1c929f10f4e0c7081098f04...</td>\n",
       "      <td>[[0.0, 0.0, 0.0, 0.0, 0.0, 3.0, 0.0, 1.0, 1.0,...</td>\n",
       "      <td>[0.0, 0.5, 0.3333333333333333, 0.5, 0.83333333...</td>\n",
       "      <td>[57.6, 14.4, 14.4, 0.0, 0.0, 0.0, 0.0, 0.0, 14...</td>\n",
       "      <td>[[nan, 0.0, 0.0, 0.0, 0.0, 101.79076343072573,...</td>\n",
       "      <td>Op 06</td>\n",
       "      <td>0.80</td>\n",
       "    </tr>\n",
       "    <tr>\n",
       "      <th>6</th>\n",
       "      <td>49febe07dfa7f81ab445502496078d7978566715c9ec34...</td>\n",
       "      <td>[[0.0, 0.0, 0.0, 0.0, 0.0, 3.0, 0.0, 2.0, 1.0,...</td>\n",
       "      <td>[0.0, 0.5, 0.3333333333333333, 0.5, 0.66666666...</td>\n",
       "      <td>[57.6, 14.4, 14.4, 0.0, 0.0, 0.0, 0.0, 0.0, 0....</td>\n",
       "      <td>[[nan, 0.0, 0.0, 0.0, 0.0, 101.79076343072573,...</td>\n",
       "      <td>Op 07</td>\n",
       "      <td>0.90</td>\n",
       "    </tr>\n",
       "    <tr>\n",
       "      <th>7</th>\n",
       "      <td>577820221aef9e0969f31e9b0febd3db83dfbcf6a515e5...</td>\n",
       "      <td>[[1.0, 0.0, 0.0, 0.0, 0.0, 4.0, 0.0, 1.0, 1.0,...</td>\n",
       "      <td>[1.0, 0.5, 0.3333333333333333, 1.0, 1.0, 0.85,...</td>\n",
       "      <td>[86.4, 57.6, 57.6, 14.4, 14.4, 43.2, 0.0, 28.8...</td>\n",
       "      <td>[[nan, 0.0, 0.0, 0.0, 0.0, 135.72101790763432,...</td>\n",
       "      <td>Op 08</td>\n",
       "      <td>0.35</td>\n",
       "    </tr>\n",
       "    <tr>\n",
       "      <th>8</th>\n",
       "      <td>7217f7382e6af947edfcaba61352de268b20163f6221ec...</td>\n",
       "      <td>[[1.0, 0.0, 1.0, 0.0, 0.0, 3.0, 0.0, 2.0, 2.0,...</td>\n",
       "      <td>[1.0, 0.5, 0.3333333333333333, 1.0, 1.0, 0.9, ...</td>\n",
       "      <td>[100.8, 158.4, 172.8, 57.6, 28.8, 43.2, 43.2, ...</td>\n",
       "      <td>[[nan, 0.0, 194.59459459459458, 0.0, 0.0, 101....</td>\n",
       "      <td>Op 09</td>\n",
       "      <td>0.10</td>\n",
       "    </tr>\n",
       "    <tr>\n",
       "      <th>9</th>\n",
       "      <td>713c491843d428b30c6b71fcc4def2882489470d851849...</td>\n",
       "      <td>[[1.0, 2.0, 3.0, 1.0, 5.0, 12.0, 0.0, 13.0, 7....</td>\n",
       "      <td>[1.0, 1.0, 1.0, 1.0, 0.8333333333333334, 0.5, ...</td>\n",
       "      <td>[345.6, 331.2, 316.8, 331.2, 288.0, 230.4, 360...</td>\n",
       "      <td>[[nan, 605.0420168067227, 583.7837837837837, 3...</td>\n",
       "      <td>Op 10</td>\n",
       "      <td>0.00</td>\n",
       "    </tr>\n",
       "    <tr>\n",
       "      <th>10</th>\n",
       "      <td>618c92349fb89711d6de293740fcf29782575fb60d0c58...</td>\n",
       "      <td>[[1.0, 0.0, 1.0, 0.0, 0.0, 2.0, 0.0, 2.0, 2.0,...</td>\n",
       "      <td>[1.0, 1.0, 0.3333333333333333, 1.0, 1.0, 0.85,...</td>\n",
       "      <td>[72.0, 144.0, 158.4, 86.4, 43.2, 115.2, 115.2,...</td>\n",
       "      <td>[[nan, 0.0, 194.59459459459458, 0.0, 0.0, 67.8...</td>\n",
       "      <td>Op 11</td>\n",
       "      <td>0.05</td>\n",
       "    </tr>\n",
       "    <tr>\n",
       "      <th>11</th>\n",
       "      <td>b2148826825c0195d5d14e0992532f459b2ac1521d3d5d...</td>\n",
       "      <td>[[1.0, 0.0, 0.0, 0.0, 0.0, 3.0, 0.0, 1.0, 1.0,...</td>\n",
       "      <td>[1.0, 0.5, 0.3333333333333333, 1.0, 1.0, 0.9, ...</td>\n",
       "      <td>[72.0, 100.8, 100.8, 28.8, 14.4, 28.8, 0.0, 43...</td>\n",
       "      <td>[[nan, 0.0, 0.0, 0.0, 0.0, 101.79076343072573,...</td>\n",
       "      <td>Op 12</td>\n",
       "      <td>0.20</td>\n",
       "    </tr>\n",
       "    <tr>\n",
       "      <th>12</th>\n",
       "      <td>cfe176e0e1304edf39087a570acb9dbe354e22781145d0...</td>\n",
       "      <td>[[1.0, 0.0, 0.0, 0.0, 0.0, 3.0, 0.0, 1.0, 1.0,...</td>\n",
       "      <td>[1.0, 0.5, 0.3333333333333333, 1.0, 1.0, 0.85,...</td>\n",
       "      <td>[72.0, 72.0, 100.8, 28.8, 14.4, 28.8, 0.0, 28....</td>\n",
       "      <td>[[nan, 0.0, 0.0, 0.0, 0.0, 101.79076343072573,...</td>\n",
       "      <td>Op 13</td>\n",
       "      <td>0.30</td>\n",
       "    </tr>\n",
       "    <tr>\n",
       "      <th>13</th>\n",
       "      <td>4ee0b306ad7cb1af9497b1f7364218c9ff49d6ecd4f1d9...</td>\n",
       "      <td>[[1.0, 0.0, 0.0, 0.0, 0.0, 5.0, 0.0, 2.0, 2.0,...</td>\n",
       "      <td>[1.0, 0.5, 0.3333333333333333, 1.0, 0.83333333...</td>\n",
       "      <td>[100.8, 28.8, 57.6, 0.0, 0.0, 0.0, 0.0, 14.4, ...</td>\n",
       "      <td>[[nan, 0.0, 0.0, 0.0, 0.0, 169.6512723845429, ...</td>\n",
       "      <td>Op 14</td>\n",
       "      <td>0.70</td>\n",
       "    </tr>\n",
       "    <tr>\n",
       "      <th>14</th>\n",
       "      <td>72937e6477905c7b9831b51d0deca274a4814815fc8188...</td>\n",
       "      <td>[[1.0, 0.0, 0.0, 0.0, 0.0, 4.0, 0.0, 1.0, 2.0,...</td>\n",
       "      <td>[1.0, 0.5, 0.3333333333333333, 1.0, 1.0, 0.85,...</td>\n",
       "      <td>[86.4, 28.8, 57.6, 14.4, 0.0, 0.0, 0.0, 28.8, ...</td>\n",
       "      <td>[[nan, 0.0, 0.0, 0.0, 0.0, 135.72101790763432,...</td>\n",
       "      <td>Op 15</td>\n",
       "      <td>0.60</td>\n",
       "    </tr>\n",
       "    <tr>\n",
       "      <th>15</th>\n",
       "      <td>f47c82823e41d92801bb435d0818a4435c5d7dc83a3e40...</td>\n",
       "      <td>[[1.0, 0.0, 1.0, 0.0, 0.0, 3.0, 0.0, 2.0, 2.0,...</td>\n",
       "      <td>[1.0, 0.5, 0.3333333333333333, 1.0, 1.0, 0.9, ...</td>\n",
       "      <td>[100.8, 100.8, 144.0, 43.2, 14.4, 43.2, 14.4, ...</td>\n",
       "      <td>[[nan, 0.0, 194.59459459459458, 0.0, 0.0, 101....</td>\n",
       "      <td>Op 16</td>\n",
       "      <td>0.15</td>\n",
       "    </tr>\n",
       "    <tr>\n",
       "      <th>16</th>\n",
       "      <td>da61601c6109e1e626c568d7ac32142433a1603e63e133...</td>\n",
       "      <td>[[1.0, 0.0, 0.0, 0.0, 0.0, 4.0, 0.0, 1.0, 1.0,...</td>\n",
       "      <td>[1.0, 0.5, 0.3333333333333333, 1.0, 1.0, 0.85,...</td>\n",
       "      <td>[86.4, 57.6, 43.2, 14.4, 14.4, 43.2, 0.0, 28.8...</td>\n",
       "      <td>[[nan, 0.0, 0.0, 0.0, 0.0, 135.72101790763432,...</td>\n",
       "      <td>Op 17</td>\n",
       "      <td>0.40</td>\n",
       "    </tr>\n",
       "    <tr>\n",
       "      <th>17</th>\n",
       "      <td>34a86909163a6b9719b6700dd8c691083112b8defc779a...</td>\n",
       "      <td>[[1.0, 0.0, 0.0, 0.0, 0.0, 4.0, 0.0, 1.0, 1.0,...</td>\n",
       "      <td>[1.0, 0.5, 0.3333333333333333, 1.0, 1.0, 0.85,...</td>\n",
       "      <td>[86.4, 43.2, 57.6, 14.4, 14.4, 14.4, 0.0, 28.8...</td>\n",
       "      <td>[[nan, 0.0, 0.0, 0.0, 0.0, 135.72101790763432,...</td>\n",
       "      <td>Op 18</td>\n",
       "      <td>0.50</td>\n",
       "    </tr>\n",
       "    <tr>\n",
       "      <th>18</th>\n",
       "      <td>eaece631654622cf51672a45e6cc36559561d7885d57a0...</td>\n",
       "      <td>[[1.0, 0.0, 0.0, 0.0, 0.0, 4.0, 0.0, 1.0, 2.0,...</td>\n",
       "      <td>[1.0, 0.5, 0.3333333333333333, 1.0, 1.0, 0.85,...</td>\n",
       "      <td>[86.4, 28.8, 72.0, 14.4, 0.0, 0.0, 0.0, 28.8, ...</td>\n",
       "      <td>[[nan, 0.0, 0.0, 0.0, 0.0, 135.72101790763432,...</td>\n",
       "      <td>Op 19</td>\n",
       "      <td>0.65</td>\n",
       "    </tr>\n",
       "    <tr>\n",
       "      <th>19</th>\n",
       "      <td>6a055a968f63c922fc869728a49013f17416371bf63b9e...</td>\n",
       "      <td>[[0.0, 0.0, 0.0, 0.0, 0.0, 3.0, 0.0, 1.0, 1.0,...</td>\n",
       "      <td>[0.0, 0.5, 0.3333333333333333, 0.5, 0.83333333...</td>\n",
       "      <td>[57.6, 14.4, 14.4, 0.0, 0.0, 0.0, 0.0, 0.0, 14...</td>\n",
       "      <td>[[nan, 0.0, 0.0, 0.0, 0.0, 101.79076343072573,...</td>\n",
       "      <td>Op 20</td>\n",
       "      <td>0.75</td>\n",
       "    </tr>\n",
       "  </tbody>\n",
       "</table>\n",
       "</div>"
      ],
      "text/plain": [
       "                                                   id  \\\n",
       "0   efe101bd43da25b8655d4992bad13e2520e4e012f8134a...   \n",
       "1   1017ee7bf9f5ff0cd3fec9b9e0ca9e75f5614ef3b20411...   \n",
       "2   4f99187ec483fc256582713754e5f08c6c9167f2a56502...   \n",
       "3   4e8a0dd0356bbb35fcf801219e6e61a4690fa080952602...   \n",
       "4   c88cadf03c25a217891061a360a290593ef9aac26daf16...   \n",
       "5   16401861685ca2735d1f53e1c929f10f4e0c7081098f04...   \n",
       "6   49febe07dfa7f81ab445502496078d7978566715c9ec34...   \n",
       "7   577820221aef9e0969f31e9b0febd3db83dfbcf6a515e5...   \n",
       "8   7217f7382e6af947edfcaba61352de268b20163f6221ec...   \n",
       "9   713c491843d428b30c6b71fcc4def2882489470d851849...   \n",
       "10  618c92349fb89711d6de293740fcf29782575fb60d0c58...   \n",
       "11  b2148826825c0195d5d14e0992532f459b2ac1521d3d5d...   \n",
       "12  cfe176e0e1304edf39087a570acb9dbe354e22781145d0...   \n",
       "13  4ee0b306ad7cb1af9497b1f7364218c9ff49d6ecd4f1d9...   \n",
       "14  72937e6477905c7b9831b51d0deca274a4814815fc8188...   \n",
       "15  f47c82823e41d92801bb435d0818a4435c5d7dc83a3e40...   \n",
       "16  da61601c6109e1e626c568d7ac32142433a1603e63e133...   \n",
       "17  34a86909163a6b9719b6700dd8c691083112b8defc779a...   \n",
       "18  eaece631654622cf51672a45e6cc36559561d7885d57a0...   \n",
       "19  6a055a968f63c922fc869728a49013f17416371bf63b9e...   \n",
       "\n",
       "                                               counts  \\\n",
       "0   [[0.0, 0.0, 0.0, 0.0, 0.0, 4.0, 0.0, 2.0, 1.0,...   \n",
       "1   [[1.0, 0.0, 0.0, 0.0, 0.0, 4.0, 0.0, 1.0, 1.0,...   \n",
       "2   [[1.0, 0.0, 0.0, 0.0, 0.0, 4.0, 0.0, 1.0, 1.0,...   \n",
       "3   [[0.0, 0.0, 0.0, 0.0, 0.0, 2.0, 0.0, 1.0, 0.0,...   \n",
       "4   [[1.0, 0.0, 0.0, 0.0, 0.0, 3.0, 0.0, 1.0, 1.0,...   \n",
       "5   [[0.0, 0.0, 0.0, 0.0, 0.0, 3.0, 0.0, 1.0, 1.0,...   \n",
       "6   [[0.0, 0.0, 0.0, 0.0, 0.0, 3.0, 0.0, 2.0, 1.0,...   \n",
       "7   [[1.0, 0.0, 0.0, 0.0, 0.0, 4.0, 0.0, 1.0, 1.0,...   \n",
       "8   [[1.0, 0.0, 1.0, 0.0, 0.0, 3.0, 0.0, 2.0, 2.0,...   \n",
       "9   [[1.0, 2.0, 3.0, 1.0, 5.0, 12.0, 0.0, 13.0, 7....   \n",
       "10  [[1.0, 0.0, 1.0, 0.0, 0.0, 2.0, 0.0, 2.0, 2.0,...   \n",
       "11  [[1.0, 0.0, 0.0, 0.0, 0.0, 3.0, 0.0, 1.0, 1.0,...   \n",
       "12  [[1.0, 0.0, 0.0, 0.0, 0.0, 3.0, 0.0, 1.0, 1.0,...   \n",
       "13  [[1.0, 0.0, 0.0, 0.0, 0.0, 5.0, 0.0, 2.0, 2.0,...   \n",
       "14  [[1.0, 0.0, 0.0, 0.0, 0.0, 4.0, 0.0, 1.0, 2.0,...   \n",
       "15  [[1.0, 0.0, 1.0, 0.0, 0.0, 3.0, 0.0, 2.0, 2.0,...   \n",
       "16  [[1.0, 0.0, 0.0, 0.0, 0.0, 4.0, 0.0, 1.0, 1.0,...   \n",
       "17  [[1.0, 0.0, 0.0, 0.0, 0.0, 4.0, 0.0, 1.0, 1.0,...   \n",
       "18  [[1.0, 0.0, 0.0, 0.0, 0.0, 4.0, 0.0, 1.0, 2.0,...   \n",
       "19  [[0.0, 0.0, 0.0, 0.0, 0.0, 3.0, 0.0, 1.0, 1.0,...   \n",
       "\n",
       "                                                  tpr  \\\n",
       "0   [0.0, 0.5, 0.3333333333333333, 0.5, 0.66666666...   \n",
       "1   [1.0, 0.5, 0.3333333333333333, 1.0, 1.0, 0.85,...   \n",
       "2   [1.0, 0.5, 0.3333333333333333, 1.0, 1.0, 0.85,...   \n",
       "3   [0.0, 0.5, 0.3333333333333333, 0.5, 0.66666666...   \n",
       "4   [1.0, 0.5, 0.3333333333333333, 1.0, 1.0, 0.85,...   \n",
       "5   [0.0, 0.5, 0.3333333333333333, 0.5, 0.83333333...   \n",
       "6   [0.0, 0.5, 0.3333333333333333, 0.5, 0.66666666...   \n",
       "7   [1.0, 0.5, 0.3333333333333333, 1.0, 1.0, 0.85,...   \n",
       "8   [1.0, 0.5, 0.3333333333333333, 1.0, 1.0, 0.9, ...   \n",
       "9   [1.0, 1.0, 1.0, 1.0, 0.8333333333333334, 0.5, ...   \n",
       "10  [1.0, 1.0, 0.3333333333333333, 1.0, 1.0, 0.85,...   \n",
       "11  [1.0, 0.5, 0.3333333333333333, 1.0, 1.0, 0.9, ...   \n",
       "12  [1.0, 0.5, 0.3333333333333333, 1.0, 1.0, 0.85,...   \n",
       "13  [1.0, 0.5, 0.3333333333333333, 1.0, 0.83333333...   \n",
       "14  [1.0, 0.5, 0.3333333333333333, 1.0, 1.0, 0.85,...   \n",
       "15  [1.0, 0.5, 0.3333333333333333, 1.0, 1.0, 0.9, ...   \n",
       "16  [1.0, 0.5, 0.3333333333333333, 1.0, 1.0, 0.85,...   \n",
       "17  [1.0, 0.5, 0.3333333333333333, 1.0, 1.0, 0.85,...   \n",
       "18  [1.0, 0.5, 0.3333333333333333, 1.0, 1.0, 0.85,...   \n",
       "19  [0.0, 0.5, 0.3333333333333333, 0.5, 0.83333333...   \n",
       "\n",
       "                                                  fpr  \\\n",
       "0   [72.0, 14.4, 14.4, 0.0, 0.0, 0.0, 0.0, 0.0, 0....   \n",
       "1   [86.4, 43.2, 43.2, 14.4, 14.4, 28.8, 0.0, 28.8...   \n",
       "2   [86.4, 28.8, 57.6, 14.4, 14.4, 14.4, 0.0, 28.8...   \n",
       "3   [28.8, 0.0, 0.0, 0.0, 0.0, 0.0, 0.0, 0.0, 0.0,...   \n",
       "4   [72.0, 100.8, 100.8, 28.8, 14.4, 28.8, 0.0, 43...   \n",
       "5   [57.6, 14.4, 14.4, 0.0, 0.0, 0.0, 0.0, 0.0, 14...   \n",
       "6   [57.6, 14.4, 14.4, 0.0, 0.0, 0.0, 0.0, 0.0, 0....   \n",
       "7   [86.4, 57.6, 57.6, 14.4, 14.4, 43.2, 0.0, 28.8...   \n",
       "8   [100.8, 158.4, 172.8, 57.6, 28.8, 43.2, 43.2, ...   \n",
       "9   [345.6, 331.2, 316.8, 331.2, 288.0, 230.4, 360...   \n",
       "10  [72.0, 144.0, 158.4, 86.4, 43.2, 115.2, 115.2,...   \n",
       "11  [72.0, 100.8, 100.8, 28.8, 14.4, 28.8, 0.0, 43...   \n",
       "12  [72.0, 72.0, 100.8, 28.8, 14.4, 28.8, 0.0, 28....   \n",
       "13  [100.8, 28.8, 57.6, 0.0, 0.0, 0.0, 0.0, 14.4, ...   \n",
       "14  [86.4, 28.8, 57.6, 14.4, 0.0, 0.0, 0.0, 28.8, ...   \n",
       "15  [100.8, 100.8, 144.0, 43.2, 14.4, 43.2, 14.4, ...   \n",
       "16  [86.4, 57.6, 43.2, 14.4, 14.4, 43.2, 0.0, 28.8...   \n",
       "17  [86.4, 43.2, 57.6, 14.4, 14.4, 14.4, 0.0, 28.8...   \n",
       "18  [86.4, 28.8, 72.0, 14.4, 0.0, 0.0, 0.0, 28.8, ...   \n",
       "19  [57.6, 14.4, 14.4, 0.0, 0.0, 0.0, 0.0, 0.0, 14...   \n",
       "\n",
       "                                                  ctr   name  threshold  \n",
       "0   [[nan, 0.0, 0.0, 0.0, 0.0, 135.72101790763432,...  Op 01       0.85  \n",
       "1   [[nan, 0.0, 0.0, 0.0, 0.0, 135.72101790763432,...  Op 02       0.45  \n",
       "2   [[nan, 0.0, 0.0, 0.0, 0.0, 135.72101790763432,...  Op 03       0.55  \n",
       "3   [[nan, 0.0, 0.0, 0.0, 0.0, 67.86050895381716, ...  Op 04       0.95  \n",
       "4   [[nan, 0.0, 0.0, 0.0, 0.0, 101.79076343072573,...  Op 05       0.25  \n",
       "5   [[nan, 0.0, 0.0, 0.0, 0.0, 101.79076343072573,...  Op 06       0.80  \n",
       "6   [[nan, 0.0, 0.0, 0.0, 0.0, 101.79076343072573,...  Op 07       0.90  \n",
       "7   [[nan, 0.0, 0.0, 0.0, 0.0, 135.72101790763432,...  Op 08       0.35  \n",
       "8   [[nan, 0.0, 194.59459459459458, 0.0, 0.0, 101....  Op 09       0.10  \n",
       "9   [[nan, 605.0420168067227, 583.7837837837837, 3...  Op 10       0.00  \n",
       "10  [[nan, 0.0, 194.59459459459458, 0.0, 0.0, 67.8...  Op 11       0.05  \n",
       "11  [[nan, 0.0, 0.0, 0.0, 0.0, 101.79076343072573,...  Op 12       0.20  \n",
       "12  [[nan, 0.0, 0.0, 0.0, 0.0, 101.79076343072573,...  Op 13       0.30  \n",
       "13  [[nan, 0.0, 0.0, 0.0, 0.0, 169.6512723845429, ...  Op 14       0.70  \n",
       "14  [[nan, 0.0, 0.0, 0.0, 0.0, 135.72101790763432,...  Op 15       0.60  \n",
       "15  [[nan, 0.0, 194.59459459459458, 0.0, 0.0, 101....  Op 16       0.15  \n",
       "16  [[nan, 0.0, 0.0, 0.0, 0.0, 135.72101790763432,...  Op 17       0.40  \n",
       "17  [[nan, 0.0, 0.0, 0.0, 0.0, 135.72101790763432,...  Op 18       0.50  \n",
       "18  [[nan, 0.0, 0.0, 0.0, 0.0, 135.72101790763432,...  Op 19       0.65  \n",
       "19  [[nan, 0.0, 0.0, 0.0, 0.0, 101.79076343072573,...  Op 20       0.75  "
      ]
     },
     "metadata": {},
     "output_type": "display_data"
    }
   ],
   "source": [
    "df_op = psds_eval.operating_points\n",
    "display(df_op)"
   ]
  },
  {
   "cell_type": "code",
   "execution_count": 14,
   "metadata": {},
   "outputs": [
    {
     "data": {
      "text/html": [
       "<div>\n",
       "<style scoped>\n",
       "    .dataframe tbody tr th:only-of-type {\n",
       "        vertical-align: middle;\n",
       "    }\n",
       "\n",
       "    .dataframe tbody tr th {\n",
       "        vertical-align: top;\n",
       "    }\n",
       "\n",
       "    .dataframe thead th {\n",
       "        text-align: right;\n",
       "    }\n",
       "</style>\n",
       "<table border=\"1\" class=\"dataframe\">\n",
       "  <thead>\n",
       "    <tr style=\"text-align: right;\">\n",
       "      <th></th>\n",
       "      <th>id</th>\n",
       "      <th>counts</th>\n",
       "      <th>tpr</th>\n",
       "      <th>fpr</th>\n",
       "      <th>ctr</th>\n",
       "      <th>name</th>\n",
       "      <th>threshold</th>\n",
       "    </tr>\n",
       "  </thead>\n",
       "  <tbody>\n",
       "    <tr>\n",
       "      <th>17</th>\n",
       "      <td>34a86909163a6b9719b6700dd8c691083112b8defc779a...</td>\n",
       "      <td>[[1.0, 0.0, 0.0, 0.0, 0.0, 4.0, 0.0, 1.0, 1.0,...</td>\n",
       "      <td>[1.0, 0.5, 0.3333333333333333, 1.0, 1.0, 0.85,...</td>\n",
       "      <td>[86.4, 43.2, 57.6, 14.4, 14.4, 14.4, 0.0, 28.8...</td>\n",
       "      <td>[[nan, 0.0, 0.0, 0.0, 0.0, 135.72101790763432,...</td>\n",
       "      <td>Op 18</td>\n",
       "      <td>0.5</td>\n",
       "    </tr>\n",
       "  </tbody>\n",
       "</table>\n",
       "</div>"
      ],
      "text/plain": [
       "                                                   id  \\\n",
       "17  34a86909163a6b9719b6700dd8c691083112b8defc779a...   \n",
       "\n",
       "                                               counts  \\\n",
       "17  [[1.0, 0.0, 0.0, 0.0, 0.0, 4.0, 0.0, 1.0, 1.0,...   \n",
       "\n",
       "                                                  tpr  \\\n",
       "17  [1.0, 0.5, 0.3333333333333333, 1.0, 1.0, 0.85,...   \n",
       "\n",
       "                                                  fpr  \\\n",
       "17  [86.4, 43.2, 57.6, 14.4, 14.4, 14.4, 0.0, 28.8...   \n",
       "\n",
       "                                                  ctr   name  threshold  \n",
       "17  [[nan, 0.0, 0.0, 0.0, 0.0, 135.72101790763432,...  Op 18        0.5  "
      ]
     },
     "metadata": {},
     "output_type": "display_data"
    },
    {
     "data": {
      "text/plain": [
       "array([ 86.4,  43.2,  57.6,  14.4,  14.4,  14.4,   0. ,  28.8,  57.6,\n",
       "        57.6,  28.8, 100.8,  72. ,  28.8,   0. ,  14.4, 158.4,  72. ,\n",
       "        72. ,  28.8,  14.4,  43.2,   0. ,  86.4,  86.4,   0. ,  57.6,\n",
       "         0. ,   0. , 129.6])"
      ]
     },
     "metadata": {},
     "output_type": "display_data"
    },
    {
     "data": {
      "text/plain": [
       "array([1.        , 0.5       , 0.33333333, 1.        , 1.        ,\n",
       "       0.85      , 1.        , 1.        , 1.        , 0.8125    ,\n",
       "       1.        , 0.69565217, 0.5       , 0.84      , 0.        ,\n",
       "       0.53846154, 0.77777778, 0.92857143, 0.6875    , 0.875     ,\n",
       "       1.        , 0.71428571, 0.66666667, 0.63636364, 0.65517241,\n",
       "       0.8       , 0.85714286, 1.        , 1.        , 0.3       ])"
      ]
     },
     "metadata": {},
     "output_type": "display_data"
    }
   ],
   "source": [
    "df_op_05 = df_op[df_op.threshold==0.5]\n",
    "tpr_05 = df_op_05.tpr.values[0]\n",
    "fpr_05 = df_op_05.fpr.values[0]\n",
    "display(df_op_05)\n",
    "display(fpr_05)\n",
    "display(tpr_05)"
   ]
  },
  {
   "cell_type": "code",
   "execution_count": 15,
   "metadata": {},
   "outputs": [],
   "source": [
    "tpr_vs_fpr, _, _ = psds_eval.psd_roc_curves(alpha_ct=0.)\n",
    "_, _, tpr_vs_efpr = psds_eval.psd_roc_curves(alpha_ct=1.)"
   ]
  },
  {
   "cell_type": "code",
   "execution_count": 16,
   "metadata": {
    "scrolled": true
   },
   "outputs": [
    {
     "data": {
      "text/plain": [
       "{'Vwater': 21.6,\n",
       " 'air_conditioner': 43.2,\n",
       " 'airborne': 28.8,\n",
       " 'alarm': 86.4,\n",
       " 'bells': 86.4,\n",
       " 'bird': 76.68,\n",
       " 'braking': 86.4,\n",
       " 'bus_idling': 85.371,\n",
       " 'bus_moving': 86.4,\n",
       " 'car_idling': 64.8,\n",
       " 'car_moving': 79.2,\n",
       " 'crowd': 32.243,\n",
       " 'cutting': 39.6,\n",
       " 'dog': 69.408,\n",
       " 'drilling': 3.6,\n",
       " 'horn': 44.862,\n",
       " 'injected_psds_world_label': 61.6,\n",
       " 'motorcycle_idling': 47.314,\n",
       " 'motorcycle_moving': 46.8,\n",
       " 'music': 79.2,\n",
       " 'rain': 86.4,\n",
       " 'river': 48.343,\n",
       " 'shouting': 70.8,\n",
       " 'siren': 46.473,\n",
       " 'steps': 21.6,\n",
       " 'talk': 86.4,\n",
       " 'truck_idling': 63.771,\n",
       " 'truck_moving': 86.4,\n",
       " 'water': 86.4,\n",
       " 'waves': 23.76,\n",
       " 'mean': 60.0}"
      ]
     },
     "execution_count": 16,
     "metadata": {},
     "output_type": "execute_result"
    }
   ],
   "source": [
    "yp = tpr_vs_fpr.yp\n",
    "xp = tpr_vs_fpr.xp\n",
    "maskk = xp<=100\n",
    "xpm = xp[maskk]\n",
    "mean = tpr_vs_fpr.mean\n",
    "mean = mean[maskk]\n",
    "auc = []\n",
    "for i in range(yp.shape[0]):\n",
    "    y = yp[i,:]\n",
    "    y = y[maskk]\n",
    "    a = metrics.auc(xpm,y)\n",
    "    auc.append(a)\n",
    "namess = psds_eval.class_names\n",
    "tabla_auc = dict()\n",
    "for j in range(len(auc)):\n",
    "    tabla_auc[namess[j]]=np.around(auc[j],3)\n",
    "tabla_auc[\"mean\"] = np.around(metrics.auc(xpm,mean))\n",
    "tabla_auc"
   ]
  },
  {
   "cell_type": "code",
   "execution_count": 17,
   "metadata": {},
   "outputs": [
    {
     "data": {
      "image/png": "[encoded data removed]",
      "text/plain": [
       "<Figure size 1080x648 with 3 Axes>"
      ]
     },
     "metadata": {
      "needs_background": "light"
     },
     "output_type": "display_data"
    }
   ],
   "source": [
    "if len(yp[:,0])<21: \n",
    "    nr=2\n",
    "else:\n",
    "    if len(yp[:,0])<11:\n",
    "        nr=1\n",
    "    else:\n",
    "        if len(yp[:,0])<31:\n",
    "            nr=3\n",
    "\n",
    "fig_roc_op, ax_roc_op = plt.subplots(nrows=nr,ncols=1,figsize=(nr*5,nr*3),sharex=True)\n",
    "\n",
    "for r in range(nr):\n",
    "    for i in range(r*int(len(yp[:,0])/nr),(r+1)*int(len(yp[:,0])/nr)):\n",
    "        if namess[i]!= 'injected_psds_world_label':\n",
    "            ax_roc_op[r].plot(xp,yp[i,:],label=namess[i])\n",
    "            #ax_roc_op[r].scatter(fpr_05[i],tpr_05[i])\n",
    "\n",
    "    ax_roc_op[r].plot(xp,tpr_vs_fpr.mean,\"k--\",label=\"mean\")\n",
    "    ax_roc_op[r].set_ylabel(\"TPR\",fontsize=16)\n",
    "    ax_roc_op[r].set_ylim([0,1.05])\n",
    "    #ax_roc_op.set_xlim([0,100])\n",
    "    #ax_roc_op.set_yticks(np.linspace(0,1,6))\n",
    "    #ax_roc_op.set_yticklabels(np.around(np.linspace(0,1,6),1),fontsize=12)\n",
    "    #ax_roc_op.set_xticklabels(np.linspace(0,100,6),fontsize=12)\n",
    "    box = ax_roc_op[r].get_position()\n",
    "    ax_roc_op[r].set_position([box.x0, box.y0, box.width * 0.8, box.height])\n",
    "    ax_roc_op[r].legend(loc='center left', bbox_to_anchor=(1, 0.5))\n",
    "ax_roc_op[0].set_title(\"TPR vs FPR\",fontsize=18)\n",
    "ax_roc_op[r].set_xlabel(\"FPR\",fontsize=16)\n",
    "\n",
    "if amb is not None:\n",
    "    plt.suptitle(\"PSD-ROC Per Event \"+amb.title(),fontsize=20);\n",
    "else:\n",
    "    plt.suptitle(\"PSD-ROC Per Event \",fontsize=20);"
   ]
  },
  {
   "cell_type": "code",
   "execution_count": 18,
   "metadata": {},
   "outputs": [
    {
     "name": "stdout",
     "output_type": "stream",
     "text": [
      "61 61\n"
     ]
    },
    {
     "data": {
      "text/plain": [
       "{'Vwater': 0.0,\n",
       " 'air_conditioner': 49.744,\n",
       " 'airborne': 33.163,\n",
       " 'alarm': 99.488,\n",
       " 'bells': 99.488,\n",
       " 'bird': 85.827,\n",
       " 'braking': 99.488,\n",
       " 'bus_idling': 94.31,\n",
       " 'bus_moving': 99.488,\n",
       " 'car_idling': 65.642,\n",
       " 'car_moving': 44.579,\n",
       " 'crowd': 5.023,\n",
       " 'cutting': 31.004,\n",
       " 'dog': 36.884,\n",
       " 'drilling': 0.0,\n",
       " 'horn': 51.814,\n",
       " 'injected_psds_world_label': 66.325,\n",
       " 'motorcycle_idling': 24.785,\n",
       " 'motorcycle_moving': 18.244,\n",
       " 'music': 80.026,\n",
       " 'rain': 99.488,\n",
       " 'river': 34.806,\n",
       " 'shouting': 77.844,\n",
       " 'siren': 39.211,\n",
       " 'steps': 3.451,\n",
       " 'talk': 99.488,\n",
       " 'truck_idling': 43.233,\n",
       " 'truck_moving': 99.488,\n",
       " 'water': 99.488,\n",
       " 'waves': 18.83,\n",
       " 'mean': 57.0}"
      ]
     },
     "execution_count": 18,
     "metadata": {},
     "output_type": "execute_result"
    }
   ],
   "source": [
    "yep = tpr_vs_efpr.yp\n",
    "xep = tpr_vs_efpr.xp\n",
    "maske = xep<=100\n",
    "xepm = xep[maske]\n",
    "meane = tpr_vs_efpr.mean\n",
    "meane = meane[maske]\n",
    "print(len(xepm),len(meane))\n",
    "auce = []\n",
    "for i in range(yep.shape[0]):\n",
    "    y = yep[i,:]\n",
    "    y = y[maske]\n",
    "    a = metrics.auc(xepm,y)\n",
    "    auce.append(a)\n",
    "namess = psds_eval.class_names\n",
    "tabla_auce = dict()\n",
    "for j in range(len(auc)):\n",
    "    tabla_auce[namess[j]]=np.around(auce[j],3)\n",
    "tabla_auce[\"mean\"] = np.around(metrics.auc(xepm,meane))\n",
    "tabla_auce"
   ]
  },
  {
   "cell_type": "markdown",
   "metadata": {},
   "source": [
    "Both figures above refer to the DCASE 2020 baseline system. In particular, the figure on the left shows the set of ROC curves (TPR-vs-FPR) in which those drawn in solid lines are class-dependent ROCs whilst the dashed one is the average TPR across classes. Note that this average curve is the same showed in previous PSD-ROC plot. This is the case since both parameters `alpha_ct` and `alpha_st` are set to zero (cf. [eFPR/eTPR definition](#efpr-etpr-definition)).\n",
    "\n",
    "**Cross-trigger mistakes**\n",
    "\n",
    "The figure on the right instead presents a *worse* situation even if the tested system is exactly the same. The figure was indeed generated using `alpha_ct = 1.0` which injects the cross-triggers (CTs) errors into the standard FPs leading to the *effective False Positive Rate* (eFPR). Varying the value of `alpha_ct` has the effect of controlling how important CTs are in the final evaluation. As explained in the paper [[1]](#References), this is crucial when the dataset is unbalanced or when the normally low probability of occurrence of a sound has to be artificially increased in order to perform a significant evaluation (e.g. glass breaking).\n",
    "\n",
    "**System stability**\n",
    "\n",
    "Let's now plot the same PSD-ROC curve, but with the flag `en_std=True`. The PSD-ROC curve (`eTPR = mean(TPR_class)`) is unchanged but the `std(TPR_class)` is now visible and it reveals the inter-class variability even without plotting the per-class ROC curves."
   ]
  },
  {
   "cell_type": "code",
   "execution_count": 19,
   "metadata": {},
   "outputs": [],
   "source": [
    "fig3, axes3 = plt.subplots(1, 2, figsize=(18, 6))\n",
    "\n",
    "# this is the same figure seen at the beginning, replot to help the comparison\n",
    "plot_psd_roc(psds, en_std=True, axes=axes3[0])\n",
    "\n",
    "# re-evaluate system's psds with alpha_st = 1.0\n",
    "psds = psds_eval.psds(alpha_st=1., max_efpr=100)\n",
    "plot_psd_roc(psds, en_std=True, axes=axes3[1])"
   ]
  },
  {
   "cell_type": "markdown",
   "metadata": {},
   "source": [
    "The figure on the left is the same PSD-ROC plotted earlier in this notebook (i.e. `alpha_st = 0.`), while the figure on the right shows how the PSD-ROC curve changes when `alpha_st = 1.` The PSD-Score drops from 0.6074 to 0.4287 suggesting that there's a significant difference in performance between the 10 classes. This confirms what it was previously shown by the per-class [PSD-ROC plot](#perclassrocs).\n",
    "\n",
    "Computing PSD-Score with different `alpha_st` values gives insights about the system stability across classes. A system with a significant inter-class variability will have a lower PSD-Score when `alpha_st` is non-zero.\n",
    "\n",
    "---"
   ]
  },
  {
   "cell_type": "markdown",
   "metadata": {},
   "source": [
    "## PSDS vs threshold sweep\n",
    "\n",
    "PSDS evaluation uses multiple operating points to extract performance which are indepenent from the system tuning. In fact, an operating point is a specific tuning of the system and it is represented by the set of detections a system produces on a dataset when such tuning is applied.  \n",
    "For the DCASE Task 4 baseline, 50 operating points have been extracted by varying the output threshold value from 0.1 to 0.99 and the system event detections for each threshold are saved in a `tsv` file (see introduction of this notebook for an example).\n",
    "\n",
    "When using `PSDSEval` to investigate the performance of a SED system, it is important to extract a sufficient number of operating points and to ensure that the set of operating points produces a smooth PSD-ROC curve and there are no large gaps between points. Let's see if the 50 linearly spaced threshold values used can be improved by using a logspaced set:"
   ]
  },
  {
   "cell_type": "markdown",
   "metadata": {},
   "source": [
    "As previously done, let's instantiate the `PSDSEval` object, add the new operating points (cached in `./cache/validation_predictions_logthr`). Notice that a new instance is created `psds_eval_log` so that we can easily produce a comparative plot later:"
   ]
  },
  {
   "cell_type": "code",
   "execution_count": 20,
   "metadata": {},
   "outputs": [
    {
     "name": "stdout",
     "output_type": "stream",
     "text": [
      "PSD-Score: 0.6800340870147211\n"
     ]
    }
   ],
   "source": [
    "psds_eval_log = PSDSEval(dtc_threshold=0.5, gtc_threshold=0.5,\n",
    "                         cttc_threshold=0.3, duration_unit=\"hour\",\n",
    "                         ground_truth=groundtruth, metadata=metadata)\n",
    "\n",
    "for i, tsv in enumerate(glob.glob(osp.join(\"./evaluation_test/log/*.txt\"))):\n",
    "    print(f\"Adding Operating Point {i+1:02d}/20\", end=\"\\r\")\n",
    "    threshold = float(osp.splitext(osp.basename(tsv))[0].replace('_', '.'))\n",
    "    det = pd.read_csv(tsv, sep=\" \",names=[\"filename\", \"onset\",\"offset\", \"event_label\"])\n",
    "    info = {\"name\": f\"Op {i+1:02d}\", \"threshold\": threshold}\n",
    "    psds_eval_log.add_operating_point(det, info=info)\n",
    "    \n",
    "psds = psds_eval_log.psds(alpha_ct=0., alpha_st=0., max_efpr=100)\n",
    "print(\"PSD-Score:\", psds.value)"
   ]
  },
  {
   "cell_type": "markdown",
   "metadata": {},
   "source": [
    "The `warn` message above is notifying us that two threshold values have produced the same set of detections. `PSDSEval` detects and skips such operating points since they won't add any new information."
   ]
  },
  {
   "cell_type": "code",
   "execution_count": 21,
   "metadata": {},
   "outputs": [
    {
     "data": {
      "image/png": "[encoded data removed]",
      "text/plain": [
       "<Figure size 1296x432 with 2 Axes>"
      ]
     },
     "metadata": {
      "needs_background": "light"
     },
     "output_type": "display_data"
    }
   ],
   "source": [
    "fig4, axis4 = plt.subplots(1, 2, figsize=(18, 6))\n",
    "class_names = psds_eval.class_names\n",
    "plt.suptitle(\"Per-class TPR-vs-FPR PSDROC\")\n",
    "\n",
    "tpr_vs_fpr_lin, _, _ = psds_eval.psd_roc_curves(alpha_ct=0.)\n",
    "plot_per_class_psd_roc(tpr_vs_fpr_lin, class_names, axes=axis4[0], title=\"Linear threshold sweep\", xlabel=\"FPR\", xlim=100)\n",
    "\n",
    "tpr_vs_fpr_log, _, _  = psds_eval_log.psd_roc_curves(alpha_ct=0.)\n",
    "plot_per_class_psd_roc(tpr_vs_fpr_log, class_names, axes=axis4[1], title=\"Log threshold sweep\", xlabel=\"FPR\", xlim=100)"
   ]
  },
  {
   "cell_type": "markdown",
   "metadata": {},
   "source": [
    "Even though the final PSD-Score has changed only slightly from 0.60744 to 0.60519, the curves **have improved significantly** in the low FPR area making a more precise comparison feasible. Notice the differences between linear threshold sweep (left) and log-based sweep (right) when FPR < 40. Worth noticing that also the `mean_TPR` dashed curve is smoother in the figure on the right.  \n",
    "Avoiding gaps in the PSD-ROC curves is crucial to have a fine evaluation; it is therefore encouraged to use a *sufficient* number of thresholds, where \"sufficient\" is defined by having smooth curves in the area you are most interested in. If you are constrained by a maximum number of thresholds, distributing them strategically (like it was done in this example) can improve the evaluation."
   ]
  },
  {
   "cell_type": "markdown",
   "metadata": {},
   "source": [
    "**Finding Specific Operating Points**\n",
    "\n",
    "As shown above, the per class ROC curves illustrate how the performance of each class change with respect to the operating points. Among these operating points, if one would like to find specific operating points, `psds_eval` package provides a function to perform such a search. This function, `select_operating_points_per_class()`, can return operating points for a given class obeying one of:\n",
    "\n",
    "    - lowest eFPR with TPR >= given value\n",
    "    - highest TPR with FPR <= given value\n",
    "    - highest TPR with eFPR <= given value\n",
    "    - highest F-score\n",
    "As an example, we can recover the operating point leading to maximum\n",
    "F1-score for each class:"
   ]
  },
  {
   "cell_type": "code",
   "execution_count": 22,
   "metadata": {},
   "outputs": [
    {
     "data": {
      "text/plain": [
       "['Vwater',\n",
       " 'air_conditioner',\n",
       " 'airborne',\n",
       " 'alarm',\n",
       " 'bells',\n",
       " 'bird',\n",
       " 'braking',\n",
       " 'bus_idling',\n",
       " 'bus_moving',\n",
       " 'car_idling',\n",
       " 'car_moving',\n",
       " 'crowd',\n",
       " 'cutting',\n",
       " 'dog',\n",
       " 'drilling',\n",
       " 'horn',\n",
       " 'injected_psds_world_label',\n",
       " 'motorcycle_idling',\n",
       " 'motorcycle_moving',\n",
       " 'music',\n",
       " 'rain',\n",
       " 'river',\n",
       " 'shouting',\n",
       " 'siren',\n",
       " 'steps',\n",
       " 'talk',\n",
       " 'truck_idling',\n",
       " 'truck_moving',\n",
       " 'water',\n",
       " 'waves',\n",
       " 'wind']"
      ]
     },
     "execution_count": 22,
     "metadata": {},
     "output_type": "execute_result"
    }
   ],
   "source": [
    "#psds_eval_log.class_names=['amphibian', 'bird', 'dog', 'motor', 'rain', 'injected_psds_world_label']\n",
    "psds_eval_log.class_names"
   ]
  },
  {
   "cell_type": "code",
   "execution_count": 23,
   "metadata": {
    "pycharm": {
     "name": "#%%\n"
    },
    "scrolled": true
   },
   "outputs": [
    {
     "ename": "ValueError",
     "evalue": "'injected_psds_world_label' is not in list",
     "output_type": "error",
     "traceback": [
      "\u001b[0;31m---------------------------------------------------------------------------\u001b[0m",
      "\u001b[0;31mValueError\u001b[0m                                Traceback (most recent call last)",
      "Input \u001b[0;32mIn [23]\u001b[0m, in \u001b[0;36m<cell line: 10>\u001b[0;34m()\u001b[0m\n\u001b[1;32m      6\u001b[0m     class_constraints\u001b[38;5;241m.\u001b[39mappend({\u001b[38;5;124m\"\u001b[39m\u001b[38;5;124mclass_name\u001b[39m\u001b[38;5;124m\"\u001b[39m: \u001b[38;5;28mcls\u001b[39m,\n\u001b[1;32m      7\u001b[0m                              \u001b[38;5;124m\"\u001b[39m\u001b[38;5;124mconstraint\u001b[39m\u001b[38;5;124m\"\u001b[39m: \u001b[38;5;124m\"\u001b[39m\u001b[38;5;124mfscore\u001b[39m\u001b[38;5;124m\"\u001b[39m,\n\u001b[1;32m      8\u001b[0m                              \u001b[38;5;124m\"\u001b[39m\u001b[38;5;124mvalue\u001b[39m\u001b[38;5;124m\"\u001b[39m: \u001b[38;5;28;01mNone\u001b[39;00m})\n\u001b[1;32m      9\u001b[0m class_constraints_table \u001b[38;5;241m=\u001b[39m pd\u001b[38;5;241m.\u001b[39mDataFrame(class_constraints)\n\u001b[0;32m---> 10\u001b[0m selected_ops \u001b[38;5;241m=\u001b[39m \u001b[43mpsds_eval_log\u001b[49m\u001b[38;5;241;43m.\u001b[39;49m\u001b[43mselect_operating_points_per_class\u001b[49m\u001b[43m(\u001b[49m\n\u001b[1;32m     11\u001b[0m \u001b[43m    \u001b[49m\u001b[43mclass_constraints_table\u001b[49m\u001b[43m,\u001b[49m\u001b[43m \u001b[49m\u001b[43malpha_ct\u001b[49m\u001b[38;5;241;43m=\u001b[39;49m\u001b[38;5;241;43m0.\u001b[39;49m\u001b[43m,\u001b[49m\u001b[43m \u001b[49m\u001b[43mbeta\u001b[49m\u001b[38;5;241;43m=\u001b[39;49m\u001b[38;5;241;43m1.\u001b[39;49m\u001b[43m)\u001b[49m\n\u001b[1;32m     12\u001b[0m \u001b[38;5;28mprint\u001b[39m(selected_ops)\n\u001b[1;32m     13\u001b[0m \u001b[38;5;28;01mfor\u001b[39;00m k \u001b[38;5;129;01min\u001b[39;00m \u001b[38;5;28mrange\u001b[39m(\u001b[38;5;28mlen\u001b[39m(class_constraints)):\n",
      "File \u001b[0;32m~/opt/miniconda3/envs/fusa-training/lib/python3.8/site-packages/psds_eval/psds.py:830\u001b[0m, in \u001b[0;36mPSDSEval.select_operating_points_per_class\u001b[0;34m(self, class_constraints, alpha_ct, beta)\u001b[0m\n\u001b[1;32m    828\u001b[0m \u001b[38;5;28;01mif\u001b[39;00m class_name \u001b[38;5;129;01mnot\u001b[39;00m \u001b[38;5;129;01min\u001b[39;00m \u001b[38;5;28mself\u001b[39m\u001b[38;5;241m.\u001b[39mclass_names:\n\u001b[1;32m    829\u001b[0m     \u001b[38;5;28;01mraise\u001b[39;00m PSDSEvalError(\u001b[38;5;124mf\u001b[39m\u001b[38;5;124m\"\u001b[39m\u001b[38;5;124mUnknown class: \u001b[39m\u001b[38;5;132;01m{\u001b[39;00mclass_name\u001b[38;5;132;01m}\u001b[39;00m\u001b[38;5;124m\"\u001b[39m)\n\u001b[0;32m--> 830\u001b[0m class_index \u001b[38;5;241m=\u001b[39m \u001b[43mclass_names_no_world\u001b[49m\u001b[38;5;241;43m.\u001b[39;49m\u001b[43mindex\u001b[49m\u001b[43m(\u001b[49m\u001b[43mclass_name\u001b[49m\u001b[43m)\u001b[49m\n\u001b[1;32m    831\u001b[0m value \u001b[38;5;241m=\u001b[39m row[\u001b[38;5;124m\"\u001b[39m\u001b[38;5;124mvalue\u001b[39m\u001b[38;5;124m\"\u001b[39m]\n\u001b[1;32m    832\u001b[0m constraint \u001b[38;5;241m=\u001b[39m row[\u001b[38;5;124m\"\u001b[39m\u001b[38;5;124mconstraint\u001b[39m\u001b[38;5;124m\"\u001b[39m]\n",
      "\u001b[0;31mValueError\u001b[0m: 'injected_psds_world_label' is not in list"
     ]
    }
   ],
   "source": [
    "# Recover the operating points for each class based on f-score\n",
    "class_constraints = list()\n",
    "for cls in psds_eval_log.class_names[:-1]:\n",
    "# find the op. point with maximum f1-score, value field is ignored for\n",
    "# F1-score criteria\n",
    "    class_constraints.append({\"class_name\": cls,\n",
    "                             \"constraint\": \"fscore\",\n",
    "                             \"value\": None})\n",
    "class_constraints_table = pd.DataFrame(class_constraints)\n",
    "selected_ops = psds_eval_log.select_operating_points_per_class(\n",
    "    class_constraints_table, alpha_ct=0., beta=1.)\n",
    "print(selected_ops)\n",
    "for k in range(len(class_constraints)):\n",
    "    print(f\"For class {class_constraints_table.class_name[k]}, the highest \"\n",
    "          f\"F1-score is achieved at:\")\n",
    "    print(f\"\\tProbability Threshold: {selected_ops.threshold[k]}, \"\n",
    "          f\"TPR: {selected_ops.TPR[k]:.2f}, \"\n",
    "          f\"FPR: {selected_ops.FPR[k]:.2f}, \"\n",
    "          f\"eFPR: {selected_ops.eFPR[k]:.2f}, \"\n",
    "      f\"F1-score: {selected_ops.Fscore[k]:.2f}\")"
   ]
  },
  {
   "cell_type": "code",
   "execution_count": null,
   "metadata": {},
   "outputs": [],
   "source": [
    "tpr_b_thr = selected_ops.TPR\n",
    "fpr_b_thr = selected_ops.FPR"
   ]
  },
  {
   "cell_type": "code",
   "execution_count": null,
   "metadata": {},
   "outputs": [],
   "source": [
    "fig_roc_op, ax_roc_op = plt.subplots(nrows=1,ncols=1,figsize=(10,8),tight_layout=True)\n",
    "\n",
    "cmap= ['tab:green','tab:brown','tab:orange','tab:purple','tab:red']\n",
    "cmap05 = ['xkcd:pale green','xkcd:pale brown','xkcd:pale orange','xkcd:pale purple','xkcd:pale red']\n",
    "\n",
    "for i in range(5):\n",
    "    ax_roc_op.plot(xp,yp[i,:],cmap[i],label=namess[i])\n",
    "    ax_roc_op.scatter(fpr_05[i],tpr_05[i],c=cmap05[i])\n",
    "    ax_roc_op.scatter(fpr_b_thr[i],tpr_b_thr[i],c=cmap[i])\n",
    "\n",
    "ax_roc_op.plot(xp,tpr_vs_fpr.mean,\"k--\",label=\"mean\")\n",
    "\n",
    "ax_roc_op.set_title(\"TPR vs FPR\",fontsize=18)\n",
    "ax_roc_op.set_xlabel(\"FPR\",fontsize=16)\n",
    "ax_roc_op.set_ylabel(\"TPR\",fontsize=16)\n",
    "ax_roc_op.set_xlim([0,100])\n",
    "ax_roc_op.set_yticks(np.linspace(0,1,6))\n",
    "ax_roc_op.set_yticklabels(np.around(np.linspace(0,1,6),1),fontsize=12)\n",
    "ax_roc_op.set_xticklabels(np.linspace(0,100,6),fontsize=12)\n",
    "ax_roc_op.legend()\n",
    "plt.suptitle(\" PSD-ROC Per Event\",fontsize=20);"
   ]
  },
  {
   "cell_type": "markdown",
   "metadata": {},
   "source": [
    "---"
   ]
  },
  {
   "cell_type": "markdown",
   "metadata": {},
   "source": [
    "## That's all\n",
    "Thank you for your interest in PSDS evaluation and for reading this notebook thus far! We encourage you to adopt PSDS in your SED research and to contribute on [GitHub](https://github.com/audioanalytic/psds_eval). For any bug or feature request please open an issue [here](https://github.com/audioanalytic/psds_eval/issues).\n",
    "\n",
    "---\n",
    "\n",
    "The authors of the paper and the team responsible for the GitHub repo are all part of the team at Audio Analytic, based in Cambridge, UK\n",
    "\n",
    "<a href=\"https://www.audioanalytic.com/\" target=\"_blank\"> <img src=\"https://www.audioanalytic.com/app/themes/audioanalytic/img/aa.svg\" width=250> </a>"
   ]
  },
  {
   "cell_type": "markdown",
   "metadata": {},
   "source": [
    "---"
   ]
  },
  {
   "cell_type": "markdown",
   "metadata": {},
   "source": [
    "# References"
   ]
  },
  {
   "cell_type": "markdown",
   "metadata": {},
   "source": [
    "[1] Ç. Bilen, G. Ferroni, F. Tuveri, J. Azcarreta and S. Krstulović, \"A Framework for the Robust Evaluation of Sound Event Detection,\" ICASSP 2020 - 2020 IEEE International Conference on Acoustics, Speech and Signal Processing (ICASSP), Barcelona, Spain, 2020, pp. 61-65.  \n",
    "doi: 10.1109/ICASSP40776.2020.9052995  \n",
    "URL: http://ieeexplore.ieee.org/stamp/stamp.jsp?tp=&arnumber=9052995&isnumber=9052899\n",
    "\n"
   ]
  }
 ],
 "metadata": {
  "kernelspec": {
   "display_name": "fusa",
   "language": "python",
   "name": "fusa"
  },
  "language_info": {
   "codemirror_mode": {
    "name": "ipython",
    "version": 3
   },
   "file_extension": ".py",
   "mimetype": "text/x-python",
   "name": "python",
   "nbconvert_exporter": "python",
   "pygments_lexer": "ipython3",
   "version": "3.8.13"
  }
 },
 "nbformat": 4,
 "nbformat_minor": 4
}
